{
 "cells": [
  {
   "cell_type": "code",
   "execution_count": 1,
   "metadata": {},
   "outputs": [],
   "source": [
    "import glob\n",
    "import os\n",
    "\n",
    "import pandas as pd\n",
    "import numpy as np\n",
    "\n",
    "from sklearn.metrics import f1_score\n",
    "from sklearn import metrics\n",
    "import matplotlib.pyplot as plt\n",
    "import seaborn as sns\n",
    "\n",
    "from sklearn.tree import DecisionTreeClassifier\n",
    "# Random Forest\n",
    "\n",
    "from sklearn.ensemble import RandomForestClassifier\n",
    "\n",
    "from hyperopt import fmin, tpe, hp\n"
   ]
  },
  {
   "cell_type": "code",
   "execution_count": 2,
   "metadata": {},
   "outputs": [
    {
     "data": {
      "text/html": [
       "<div>\n",
       "<style scoped>\n",
       "    .dataframe tbody tr th:only-of-type {\n",
       "        vertical-align: middle;\n",
       "    }\n",
       "\n",
       "    .dataframe tbody tr th {\n",
       "        vertical-align: top;\n",
       "    }\n",
       "\n",
       "    .dataframe thead th {\n",
       "        text-align: right;\n",
       "    }\n",
       "</style>\n",
       "<table border=\"1\" class=\"dataframe\">\n",
       "  <thead>\n",
       "    <tr style=\"text-align: right;\">\n",
       "      <th></th>\n",
       "      <th>Doc Text</th>\n",
       "      <th>Topic</th>\n",
       "    </tr>\n",
       "  </thead>\n",
       "  <tbody>\n",
       "    <tr>\n",
       "      <th>0</th>\n",
       "      <td>Ad sales boost Time Warner profit\\n\\nQuarterly...</td>\n",
       "      <td>business</td>\n",
       "    </tr>\n",
       "    <tr>\n",
       "      <th>1</th>\n",
       "      <td>Dollar gains on Greenspan speech\\n\\nThe dollar...</td>\n",
       "      <td>business</td>\n",
       "    </tr>\n",
       "    <tr>\n",
       "      <th>2</th>\n",
       "      <td>Yukos unit buyer faces loan claim\\n\\nThe owner...</td>\n",
       "      <td>business</td>\n",
       "    </tr>\n",
       "    <tr>\n",
       "      <th>3</th>\n",
       "      <td>High fuel prices hit BA's profits\\n\\nBritish A...</td>\n",
       "      <td>business</td>\n",
       "    </tr>\n",
       "    <tr>\n",
       "      <th>4</th>\n",
       "      <td>Pernod takeover talk lifts Domecq\\n\\nShares in...</td>\n",
       "      <td>business</td>\n",
       "    </tr>\n",
       "  </tbody>\n",
       "</table>\n",
       "</div>"
      ],
      "text/plain": [
       "                                            Doc Text     Topic\n",
       "0  Ad sales boost Time Warner profit\\n\\nQuarterly...  business\n",
       "1  Dollar gains on Greenspan speech\\n\\nThe dollar...  business\n",
       "2  Yukos unit buyer faces loan claim\\n\\nThe owner...  business\n",
       "3  High fuel prices hit BA's profits\\n\\nBritish A...  business\n",
       "4  Pernod takeover talk lifts Domecq\\n\\nShares in...  business"
      ]
     },
     "execution_count": 2,
     "metadata": {},
     "output_type": "execute_result"
    }
   ],
   "source": [
    "file_list = glob.glob(os.path.join(os.getcwd(), r\"C:\\Users\\kalya\\OneDrive - University of Illinois at Chicago\\!UIC\\!!Data Science\\!Project\\News Articles\\bbc-fulltext\\bbc\\business/\", \"*.txt\"))\n",
    "\n",
    "#all_files = os.listdir(r\"C:\\Users\\kalya\\OneDrive - University of Illinois at Chicago\\!UIC\\Data Science\\Project\\News Articles\\bbc-fulltext\\bbc\\business/\")   # imagine you're one directory above test dir\n",
    "corpus = []\n",
    "\n",
    "for file_path in file_list:\n",
    "    with open(file_path) as f_input:\n",
    "        corpus.append(f_input.read())\n",
    "\n",
    "\n",
    "\n",
    "data1 = pd.DataFrame(data = corpus, columns = [\"Doc Name\"])\n",
    "#data = data.reset_index()\n",
    "data1[\"Topic\"] = \"business\"\n",
    "data1.columns = [\"Doc Text\", \"Topic\"]\n",
    "data1.head()"
   ]
  },
  {
   "cell_type": "code",
   "execution_count": 3,
   "metadata": {},
   "outputs": [
    {
     "data": {
      "text/html": [
       "<div>\n",
       "<style scoped>\n",
       "    .dataframe tbody tr th:only-of-type {\n",
       "        vertical-align: middle;\n",
       "    }\n",
       "\n",
       "    .dataframe tbody tr th {\n",
       "        vertical-align: top;\n",
       "    }\n",
       "\n",
       "    .dataframe thead th {\n",
       "        text-align: right;\n",
       "    }\n",
       "</style>\n",
       "<table border=\"1\" class=\"dataframe\">\n",
       "  <thead>\n",
       "    <tr style=\"text-align: right;\">\n",
       "      <th></th>\n",
       "      <th>Doc Text</th>\n",
       "      <th>Topic</th>\n",
       "    </tr>\n",
       "  </thead>\n",
       "  <tbody>\n",
       "    <tr>\n",
       "      <th>0</th>\n",
       "      <td>Gallery unveils interactive tree\\n\\nA Christma...</td>\n",
       "      <td>entertainment</td>\n",
       "    </tr>\n",
       "    <tr>\n",
       "      <th>1</th>\n",
       "      <td>Jarre joins fairytale celebration\\n\\nFrench mu...</td>\n",
       "      <td>entertainment</td>\n",
       "    </tr>\n",
       "    <tr>\n",
       "      <th>2</th>\n",
       "      <td>Musical treatment for Capra film\\n\\nThe classi...</td>\n",
       "      <td>entertainment</td>\n",
       "    </tr>\n",
       "    <tr>\n",
       "      <th>3</th>\n",
       "      <td>Richard and Judy choose top books\\n\\nThe 10 au...</td>\n",
       "      <td>entertainment</td>\n",
       "    </tr>\n",
       "    <tr>\n",
       "      <th>4</th>\n",
       "      <td>Poppins musical gets flying start\\n\\nThe stage...</td>\n",
       "      <td>entertainment</td>\n",
       "    </tr>\n",
       "  </tbody>\n",
       "</table>\n",
       "</div>"
      ],
      "text/plain": [
       "                                            Doc Text          Topic\n",
       "0  Gallery unveils interactive tree\\n\\nA Christma...  entertainment\n",
       "1  Jarre joins fairytale celebration\\n\\nFrench mu...  entertainment\n",
       "2  Musical treatment for Capra film\\n\\nThe classi...  entertainment\n",
       "3  Richard and Judy choose top books\\n\\nThe 10 au...  entertainment\n",
       "4  Poppins musical gets flying start\\n\\nThe stage...  entertainment"
      ]
     },
     "execution_count": 3,
     "metadata": {},
     "output_type": "execute_result"
    }
   ],
   "source": [
    "file_list2 = glob.glob(os.path.join(os.getcwd(), r\"C:\\Users\\kalya\\OneDrive - University of Illinois at Chicago\\!UIC\\!!Data Science\\!Project\\News Articles\\bbc-fulltext\\bbc\\entertainment/\", \"*.txt\"))\n",
    "\n",
    "#all_files = os.listdir(r\"C:\\Users\\kalya\\OneDrive - University of Illinois at Chicago\\!UIC\\Data Science\\Project\\News Articles\\bbc-fulltext\\bbc\\business/\")   # imagine you're one directory above test dir\n",
    "corpus2 = []\n",
    "for file_path in file_list2:\n",
    "    with open(file_path) as f_input:\n",
    "        corpus2.append(f_input.read())\n",
    "\n",
    "data2 = pd.DataFrame(data = corpus2, columns = [\"Doc Name\"])\n",
    "#data = data.reset_index()\n",
    "data2[\"Topic\"] = \"entertainment\"\n",
    "data2.columns = [\"Doc Text\", \"Topic\"]\n",
    "data2.head()"
   ]
  },
  {
   "cell_type": "code",
   "execution_count": 4,
   "metadata": {},
   "outputs": [
    {
     "data": {
      "text/html": [
       "<div>\n",
       "<style scoped>\n",
       "    .dataframe tbody tr th:only-of-type {\n",
       "        vertical-align: middle;\n",
       "    }\n",
       "\n",
       "    .dataframe tbody tr th {\n",
       "        vertical-align: top;\n",
       "    }\n",
       "\n",
       "    .dataframe thead th {\n",
       "        text-align: right;\n",
       "    }\n",
       "</style>\n",
       "<table border=\"1\" class=\"dataframe\">\n",
       "  <thead>\n",
       "    <tr style=\"text-align: right;\">\n",
       "      <th></th>\n",
       "      <th>Doc Text</th>\n",
       "      <th>Topic</th>\n",
       "    </tr>\n",
       "  </thead>\n",
       "  <tbody>\n",
       "    <tr>\n",
       "      <th>0</th>\n",
       "      <td>Labour plans maternity pay rise\\n\\nMaternity p...</td>\n",
       "      <td>politics</td>\n",
       "    </tr>\n",
       "    <tr>\n",
       "      <th>1</th>\n",
       "      <td>Watchdog probes e-mail deletions\\n\\nThe inform...</td>\n",
       "      <td>politics</td>\n",
       "    </tr>\n",
       "    <tr>\n",
       "      <th>2</th>\n",
       "      <td>Hewitt decries 'career sexism'\\n\\nPlans to ext...</td>\n",
       "      <td>politics</td>\n",
       "    </tr>\n",
       "    <tr>\n",
       "      <th>3</th>\n",
       "      <td>Labour chooses Manchester\\n\\nThe Labour Party ...</td>\n",
       "      <td>politics</td>\n",
       "    </tr>\n",
       "    <tr>\n",
       "      <th>4</th>\n",
       "      <td>Brown ally rejects Budget spree\\n\\nChancellor ...</td>\n",
       "      <td>politics</td>\n",
       "    </tr>\n",
       "  </tbody>\n",
       "</table>\n",
       "</div>"
      ],
      "text/plain": [
       "                                            Doc Text     Topic\n",
       "0  Labour plans maternity pay rise\\n\\nMaternity p...  politics\n",
       "1  Watchdog probes e-mail deletions\\n\\nThe inform...  politics\n",
       "2  Hewitt decries 'career sexism'\\n\\nPlans to ext...  politics\n",
       "3  Labour chooses Manchester\\n\\nThe Labour Party ...  politics\n",
       "4  Brown ally rejects Budget spree\\n\\nChancellor ...  politics"
      ]
     },
     "execution_count": 4,
     "metadata": {},
     "output_type": "execute_result"
    }
   ],
   "source": [
    "file_list3 = glob.glob(os.path.join(os.getcwd(), r\"C:\\Users\\kalya\\OneDrive - University of Illinois at Chicago\\!UIC\\!!Data Science\\!Project\\News Articles\\bbc-fulltext\\bbc\\politics/\", \"*.txt\"))\n",
    "\n",
    "#all_files = os.listdir(r\"C:\\Users\\kalya\\OneDrive - University of Illinois at Chicago\\!UIC\\Data Science\\Project\\News Articles\\bbc-fulltext\\bbc\\business/\")   # imagine you're one directory above test dir\n",
    "corpus3 = []\n",
    "for file_path in file_list3:\n",
    "    with open(file_path) as f_input:\n",
    "        corpus3.append(f_input.read())\n",
    "\n",
    "data3 = pd.DataFrame(data = corpus3, columns = [\"Doc Name\"])\n",
    "#data = data.reset_index()\n",
    "data3[\"Topic\"] = \"politics\"\n",
    "data3.columns = [\"Doc Text\", \"Topic\"]\n",
    "data3.head()"
   ]
  },
  {
   "cell_type": "code",
   "execution_count": 5,
   "metadata": {},
   "outputs": [
    {
     "data": {
      "text/html": [
       "<div>\n",
       "<style scoped>\n",
       "    .dataframe tbody tr th:only-of-type {\n",
       "        vertical-align: middle;\n",
       "    }\n",
       "\n",
       "    .dataframe tbody tr th {\n",
       "        vertical-align: top;\n",
       "    }\n",
       "\n",
       "    .dataframe thead th {\n",
       "        text-align: right;\n",
       "    }\n",
       "</style>\n",
       "<table border=\"1\" class=\"dataframe\">\n",
       "  <thead>\n",
       "    <tr style=\"text-align: right;\">\n",
       "      <th></th>\n",
       "      <th>Doc Text</th>\n",
       "      <th>Topic</th>\n",
       "    </tr>\n",
       "  </thead>\n",
       "  <tbody>\n",
       "    <tr>\n",
       "      <th>0</th>\n",
       "      <td>Claxton hunting first major medal\\n\\nBritish h...</td>\n",
       "      <td>sport</td>\n",
       "    </tr>\n",
       "    <tr>\n",
       "      <th>1</th>\n",
       "      <td>O'Sullivan could run in Worlds\\n\\nSonia O'Sull...</td>\n",
       "      <td>sport</td>\n",
       "    </tr>\n",
       "    <tr>\n",
       "      <th>2</th>\n",
       "      <td>Greene sets sights on world title\\n\\nMaurice G...</td>\n",
       "      <td>sport</td>\n",
       "    </tr>\n",
       "    <tr>\n",
       "      <th>3</th>\n",
       "      <td>IAAF launches fight against drugs\\n\\nThe IAAF ...</td>\n",
       "      <td>sport</td>\n",
       "    </tr>\n",
       "    <tr>\n",
       "      <th>4</th>\n",
       "      <td>Dibaba breaks 5,000m world record\\n\\nEthiopia'...</td>\n",
       "      <td>sport</td>\n",
       "    </tr>\n",
       "  </tbody>\n",
       "</table>\n",
       "</div>"
      ],
      "text/plain": [
       "                                            Doc Text  Topic\n",
       "0  Claxton hunting first major medal\\n\\nBritish h...  sport\n",
       "1  O'Sullivan could run in Worlds\\n\\nSonia O'Sull...  sport\n",
       "2  Greene sets sights on world title\\n\\nMaurice G...  sport\n",
       "3  IAAF launches fight against drugs\\n\\nThe IAAF ...  sport\n",
       "4  Dibaba breaks 5,000m world record\\n\\nEthiopia'...  sport"
      ]
     },
     "execution_count": 5,
     "metadata": {},
     "output_type": "execute_result"
    }
   ],
   "source": [
    "file_list4 = glob.glob(os.path.join(os.getcwd(), r\"C:\\Users\\kalya\\OneDrive - University of Illinois at Chicago\\!UIC\\!!Data Science\\!Project\\News Articles\\bbc-fulltext\\bbc\\sport/\", \"*.txt\"))\n",
    "\n",
    "#all_files = os.listdir(r\"C:\\Users\\kalya\\OneDrive - University of Illinois at Chicago\\!UIC\\Data Science\\Project\\News Articles\\bbc-fulltext\\bbc\\business/\")   # imagine you're one directory above test dir\n",
    "corpus4 = []\n",
    "for file_path in file_list4:\n",
    "    with open(file_path) as f_input:\n",
    "        corpus4.append(f_input.read())\n",
    "\n",
    "data4 = pd.DataFrame(data = corpus4, columns = [\"Doc Name\"])\n",
    "#data = data.reset_index()\n",
    "data4[\"Topic\"] = \"sport\"\n",
    "data4.columns = [\"Doc Text\", \"Topic\"]\n",
    "data4.head()"
   ]
  },
  {
   "cell_type": "code",
   "execution_count": 6,
   "metadata": {},
   "outputs": [
    {
     "data": {
      "text/html": [
       "<div>\n",
       "<style scoped>\n",
       "    .dataframe tbody tr th:only-of-type {\n",
       "        vertical-align: middle;\n",
       "    }\n",
       "\n",
       "    .dataframe tbody tr th {\n",
       "        vertical-align: top;\n",
       "    }\n",
       "\n",
       "    .dataframe thead th {\n",
       "        text-align: right;\n",
       "    }\n",
       "</style>\n",
       "<table border=\"1\" class=\"dataframe\">\n",
       "  <thead>\n",
       "    <tr style=\"text-align: right;\">\n",
       "      <th></th>\n",
       "      <th>Doc Text</th>\n",
       "      <th>Topic</th>\n",
       "    </tr>\n",
       "  </thead>\n",
       "  <tbody>\n",
       "    <tr>\n",
       "      <th>0</th>\n",
       "      <td>Ink helps drive democracy in Asia\\n\\nThe Kyrgy...</td>\n",
       "      <td>sport</td>\n",
       "    </tr>\n",
       "    <tr>\n",
       "      <th>1</th>\n",
       "      <td>China net cafe culture crackdown\\n\\nChinese au...</td>\n",
       "      <td>sport</td>\n",
       "    </tr>\n",
       "    <tr>\n",
       "      <th>2</th>\n",
       "      <td>Microsoft seeking spyware trojan\\n\\nMicrosoft ...</td>\n",
       "      <td>sport</td>\n",
       "    </tr>\n",
       "    <tr>\n",
       "      <th>3</th>\n",
       "      <td>Digital guru floats sub-$100 PC\\n\\nNicholas Ne...</td>\n",
       "      <td>sport</td>\n",
       "    </tr>\n",
       "    <tr>\n",
       "      <th>4</th>\n",
       "      <td>Technology gets the creative bug\\n\\nThe hi-tec...</td>\n",
       "      <td>sport</td>\n",
       "    </tr>\n",
       "  </tbody>\n",
       "</table>\n",
       "</div>"
      ],
      "text/plain": [
       "                                            Doc Text  Topic\n",
       "0  Ink helps drive democracy in Asia\\n\\nThe Kyrgy...  sport\n",
       "1  China net cafe culture crackdown\\n\\nChinese au...  sport\n",
       "2  Microsoft seeking spyware trojan\\n\\nMicrosoft ...  sport\n",
       "3  Digital guru floats sub-$100 PC\\n\\nNicholas Ne...  sport\n",
       "4  Technology gets the creative bug\\n\\nThe hi-tec...  sport"
      ]
     },
     "execution_count": 6,
     "metadata": {},
     "output_type": "execute_result"
    }
   ],
   "source": [
    "file_list5 = glob.glob(os.path.join(os.getcwd(), r\"C:\\Users\\kalya\\OneDrive - University of Illinois at Chicago\\!UIC\\!!Data Science\\!Project\\News Articles\\bbc-fulltext\\bbc\\tech/\", \"*.txt\"))\n",
    "\n",
    "#all_files = os.listdir(r\"C:\\Users\\kalya\\OneDrive - University of Illinois at Chicago\\!UIC\\Data Science\\Project\\News Articles\\bbc-fulltext\\bbc\\business/\")   # imagine you're one directory above test dir\n",
    "corpus5 = []\n",
    "for file_path in file_list5:\n",
    "    with open(file_path) as f_input:\n",
    "        corpus5.append(f_input.read())\n",
    "\n",
    "data5 = pd.DataFrame(data = corpus5, columns = [\"Doc Name\"])\n",
    "#data = data.reset_index()\n",
    "data5[\"Topic\"] = \"sport\"\n",
    "data5.columns = [\"Doc Text\", \"Topic\"]\n",
    "data5.head()"
   ]
  },
  {
   "cell_type": "code",
   "execution_count": 7,
   "metadata": {},
   "outputs": [
    {
     "name": "stdout",
     "output_type": "stream",
     "text": [
      "<class 'pandas.core.frame.DataFrame'>\n",
      "Int64Index: 2225 entries, 0 to 400\n",
      "Data columns (total 2 columns):\n",
      "Doc Text    2225 non-null object\n",
      "Topic       2225 non-null object\n",
      "dtypes: object(2)\n",
      "memory usage: 52.1+ KB\n"
     ]
    }
   ],
   "source": [
    "d = [data1, data2, data3, data4,data5]\n",
    "data = pd.concat(d)\n",
    "data.to_csv(\"News.csv\")\n",
    "data.head()\n",
    "data.info()"
   ]
  },
  {
   "cell_type": "code",
   "execution_count": 8,
   "metadata": {},
   "outputs": [
    {
     "data": {
      "text/html": [
       "<div>\n",
       "<style scoped>\n",
       "    .dataframe tbody tr th:only-of-type {\n",
       "        vertical-align: middle;\n",
       "    }\n",
       "\n",
       "    .dataframe tbody tr th {\n",
       "        vertical-align: top;\n",
       "    }\n",
       "\n",
       "    .dataframe thead th {\n",
       "        text-align: right;\n",
       "    }\n",
       "</style>\n",
       "<table border=\"1\" class=\"dataframe\">\n",
       "  <thead>\n",
       "    <tr style=\"text-align: right;\">\n",
       "      <th></th>\n",
       "      <th>Doc Text</th>\n",
       "      <th>Topic</th>\n",
       "    </tr>\n",
       "  </thead>\n",
       "  <tbody>\n",
       "    <tr>\n",
       "      <th>0</th>\n",
       "      <td>Ad sales boost Time Warner profit Quarterly pr...</td>\n",
       "      <td>business</td>\n",
       "    </tr>\n",
       "    <tr>\n",
       "      <th>1</th>\n",
       "      <td>Dollar gains on Greenspan speech The dollar ha...</td>\n",
       "      <td>business</td>\n",
       "    </tr>\n",
       "    <tr>\n",
       "      <th>2</th>\n",
       "      <td>Yukos unit buyer faces loan claim The owners o...</td>\n",
       "      <td>business</td>\n",
       "    </tr>\n",
       "    <tr>\n",
       "      <th>3</th>\n",
       "      <td>High fuel prices hit BAs profits British Airwa...</td>\n",
       "      <td>business</td>\n",
       "    </tr>\n",
       "    <tr>\n",
       "      <th>4</th>\n",
       "      <td>Pernod takeover talk lifts Domecq Shares in UK...</td>\n",
       "      <td>business</td>\n",
       "    </tr>\n",
       "  </tbody>\n",
       "</table>\n",
       "</div>"
      ],
      "text/plain": [
       "                                            Doc Text     Topic\n",
       "0  Ad sales boost Time Warner profit Quarterly pr...  business\n",
       "1  Dollar gains on Greenspan speech The dollar ha...  business\n",
       "2  Yukos unit buyer faces loan claim The owners o...  business\n",
       "3  High fuel prices hit BAs profits British Airwa...  business\n",
       "4  Pernod takeover talk lifts Domecq Shares in UK...  business"
      ]
     },
     "execution_count": 8,
     "metadata": {},
     "output_type": "execute_result"
    }
   ],
   "source": [
    "data[\"Doc Text\"] = data[\"Doc Text\"].str.replace('\\n\\n', ' ')\n",
    "data[\"Doc Text\"] = data[\"Doc Text\"].str.replace('[^\\w\\s]','')\n",
    "data[\"Doc Text\"] = data[\"Doc Text\"].str.replace('\\s+[a-zA-Z]\\s+','')\n",
    "data[\"Doc Text\"] = data[\"Doc Text\"].str.replace('\\^[a-zA-Z]\\s+','')\n",
    "\n",
    "data[\"Doc Text\"] = data[\"Doc Text\"].str.replace('\\s+',' ')\n",
    "data.head()"
   ]
  },
  {
   "cell_type": "code",
   "execution_count": 9,
   "metadata": {},
   "outputs": [
    {
     "data": {
      "text/html": [
       "<div>\n",
       "<style scoped>\n",
       "    .dataframe tbody tr th:only-of-type {\n",
       "        vertical-align: middle;\n",
       "    }\n",
       "\n",
       "    .dataframe tbody tr th {\n",
       "        vertical-align: top;\n",
       "    }\n",
       "\n",
       "    .dataframe thead th {\n",
       "        text-align: right;\n",
       "    }\n",
       "</style>\n",
       "<table border=\"1\" class=\"dataframe\">\n",
       "  <thead>\n",
       "    <tr style=\"text-align: right;\">\n",
       "      <th></th>\n",
       "      <th>Doc Text</th>\n",
       "      <th>Topic</th>\n",
       "    </tr>\n",
       "  </thead>\n",
       "  <tbody>\n",
       "    <tr>\n",
       "      <th>0</th>\n",
       "      <td>ad sales boost time warner profit quarterly pr...</td>\n",
       "      <td>business</td>\n",
       "    </tr>\n",
       "    <tr>\n",
       "      <th>1</th>\n",
       "      <td>dollar gains on greenspan speech the dollar ha...</td>\n",
       "      <td>business</td>\n",
       "    </tr>\n",
       "    <tr>\n",
       "      <th>2</th>\n",
       "      <td>yukos unit buyer faces loan claim the owners o...</td>\n",
       "      <td>business</td>\n",
       "    </tr>\n",
       "    <tr>\n",
       "      <th>3</th>\n",
       "      <td>high fuel prices hit bas profits british airwa...</td>\n",
       "      <td>business</td>\n",
       "    </tr>\n",
       "    <tr>\n",
       "      <th>4</th>\n",
       "      <td>pernod takeover talk lifts domecq shares in uk...</td>\n",
       "      <td>business</td>\n",
       "    </tr>\n",
       "  </tbody>\n",
       "</table>\n",
       "</div>"
      ],
      "text/plain": [
       "                                            Doc Text     Topic\n",
       "0  ad sales boost time warner profit quarterly pr...  business\n",
       "1  dollar gains on greenspan speech the dollar ha...  business\n",
       "2  yukos unit buyer faces loan claim the owners o...  business\n",
       "3  high fuel prices hit bas profits british airwa...  business\n",
       "4  pernod takeover talk lifts domecq shares in uk...  business"
      ]
     },
     "execution_count": 9,
     "metadata": {},
     "output_type": "execute_result"
    }
   ],
   "source": [
    "data[\"Doc Text\"] = data[\"Doc Text\"].str.lower()\n",
    "data.head()"
   ]
  },
  {
   "cell_type": "code",
   "execution_count": 10,
   "metadata": {},
   "outputs": [
    {
     "name": "stderr",
     "output_type": "stream",
     "text": [
      "[nltk_data] Downloading package stopwords to\n",
      "[nltk_data]     C:\\Users\\kalya\\AppData\\Roaming\\nltk_data...\n",
      "[nltk_data]   Package stopwords is already up-to-date!\n"
     ]
    }
   ],
   "source": [
    "# Install stopwords package\n",
    "import nltk\n",
    "\n",
    "nltk.download('stopwords')\n",
    "from nltk.corpus import stopwords\n",
    "from nltk.stem import PorterStemmer"
   ]
  },
  {
   "cell_type": "code",
   "execution_count": 11,
   "metadata": {},
   "outputs": [
    {
     "data": {
      "text/html": [
       "<div>\n",
       "<style scoped>\n",
       "    .dataframe tbody tr th:only-of-type {\n",
       "        vertical-align: middle;\n",
       "    }\n",
       "\n",
       "    .dataframe tbody tr th {\n",
       "        vertical-align: top;\n",
       "    }\n",
       "\n",
       "    .dataframe thead th {\n",
       "        text-align: right;\n",
       "    }\n",
       "</style>\n",
       "<table border=\"1\" class=\"dataframe\">\n",
       "  <thead>\n",
       "    <tr style=\"text-align: right;\">\n",
       "      <th></th>\n",
       "      <th>Doc Text</th>\n",
       "      <th>Topic</th>\n",
       "    </tr>\n",
       "  </thead>\n",
       "  <tbody>\n",
       "    <tr>\n",
       "      <th>0</th>\n",
       "      <td>ad sales boost time warner profit quarterly pr...</td>\n",
       "      <td>business</td>\n",
       "    </tr>\n",
       "    <tr>\n",
       "      <th>1</th>\n",
       "      <td>dollar gains greenspan speech dollar hit highe...</td>\n",
       "      <td>business</td>\n",
       "    </tr>\n",
       "    <tr>\n",
       "      <th>2</th>\n",
       "      <td>yukos unit buyer faces loan claim owners embat...</td>\n",
       "      <td>business</td>\n",
       "    </tr>\n",
       "    <tr>\n",
       "      <th>3</th>\n",
       "      <td>high fuel prices hit bas profits british airwa...</td>\n",
       "      <td>business</td>\n",
       "    </tr>\n",
       "    <tr>\n",
       "      <th>4</th>\n",
       "      <td>pernod takeover talk lifts domecq shares uk dr...</td>\n",
       "      <td>business</td>\n",
       "    </tr>\n",
       "  </tbody>\n",
       "</table>\n",
       "</div>"
      ],
      "text/plain": [
       "                                            Doc Text     Topic\n",
       "0  ad sales boost time warner profit quarterly pr...  business\n",
       "1  dollar gains greenspan speech dollar hit highe...  business\n",
       "2  yukos unit buyer faces loan claim owners embat...  business\n",
       "3  high fuel prices hit bas profits british airwa...  business\n",
       "4  pernod takeover talk lifts domecq shares uk dr...  business"
      ]
     },
     "execution_count": 11,
     "metadata": {},
     "output_type": "execute_result"
    }
   ],
   "source": [
    "# Print list of stop words\n",
    "stop_list = stopwords.words('english')\n",
    "#print(stop_list)\n",
    "\n",
    "# Remove stop words from text\n",
    "data[\"Doc Text\"] = data[\"Doc Text\"].apply(lambda x: \" \".join([word for word in x.split() if word not in stop_list]))\n",
    "data.head()\n"
   ]
  },
  {
   "cell_type": "code",
   "execution_count": 12,
   "metadata": {},
   "outputs": [
    {
     "data": {
      "text/html": [
       "<div>\n",
       "<style scoped>\n",
       "    .dataframe tbody tr th:only-of-type {\n",
       "        vertical-align: middle;\n",
       "    }\n",
       "\n",
       "    .dataframe tbody tr th {\n",
       "        vertical-align: top;\n",
       "    }\n",
       "\n",
       "    .dataframe thead th {\n",
       "        text-align: right;\n",
       "    }\n",
       "</style>\n",
       "<table border=\"1\" class=\"dataframe\">\n",
       "  <thead>\n",
       "    <tr style=\"text-align: right;\">\n",
       "      <th></th>\n",
       "      <th>Doc Text</th>\n",
       "      <th>Topic</th>\n",
       "    </tr>\n",
       "  </thead>\n",
       "  <tbody>\n",
       "    <tr>\n",
       "      <th>0</th>\n",
       "      <td>ad sale boost time warner profit quarterli pro...</td>\n",
       "      <td>business</td>\n",
       "    </tr>\n",
       "    <tr>\n",
       "      <th>1</th>\n",
       "      <td>dollar gain greenspan speech dollar hit highes...</td>\n",
       "      <td>business</td>\n",
       "    </tr>\n",
       "    <tr>\n",
       "      <th>2</th>\n",
       "      <td>yuko unit buyer face loan claim owner embattl ...</td>\n",
       "      <td>business</td>\n",
       "    </tr>\n",
       "    <tr>\n",
       "      <th>3</th>\n",
       "      <td>high fuel price hit ba profit british airway b...</td>\n",
       "      <td>business</td>\n",
       "    </tr>\n",
       "    <tr>\n",
       "      <th>4</th>\n",
       "      <td>pernod takeov talk lift domecq share uk drink ...</td>\n",
       "      <td>business</td>\n",
       "    </tr>\n",
       "  </tbody>\n",
       "</table>\n",
       "</div>"
      ],
      "text/plain": [
       "                                            Doc Text     Topic\n",
       "0  ad sale boost time warner profit quarterli pro...  business\n",
       "1  dollar gain greenspan speech dollar hit highes...  business\n",
       "2  yuko unit buyer face loan claim owner embattl ...  business\n",
       "3  high fuel price hit ba profit british airway b...  business\n",
       "4  pernod takeov talk lift domecq share uk drink ...  business"
      ]
     },
     "execution_count": 12,
     "metadata": {},
     "output_type": "execute_result"
    }
   ],
   "source": [
    "st = PorterStemmer()\n",
    "data[\"Doc Text\"] = data[\"Doc Text\"].apply(lambda x: \" \".join([st.stem(y) for y in x.split()]))\n",
    "#apply(lambda x: [stemmer.stem(y) for y in x])\n",
    "data.head()"
   ]
  },
  {
   "cell_type": "code",
   "execution_count": 13,
   "metadata": {},
   "outputs": [],
   "source": [
    "#data['tokens'] = data[\"Doc Text\"].apply(lambda x: x.split())\n",
    "#data.head()"
   ]
  },
  {
   "cell_type": "code",
   "execution_count": 14,
   "metadata": {},
   "outputs": [],
   "source": [
    "from sklearn.preprocessing import StandardScaler, LabelEncoder"
   ]
  },
  {
   "cell_type": "code",
   "execution_count": 15,
   "metadata": {},
   "outputs": [],
   "source": [
    "X = data.iloc[:, :1]\n",
    "Y = data['Topic']"
   ]
  },
  {
   "cell_type": "code",
   "execution_count": 16,
   "metadata": {},
   "outputs": [],
   "source": [
    "#y = pd.DataFrame(data = LabelEncoder().fit_transform(Y), columns= [\"Topic\"])\n",
    "y = pd.DataFrame(data = Y, columns= [\"Topic\"])"
   ]
  },
  {
   "cell_type": "code",
   "execution_count": 17,
   "metadata": {},
   "outputs": [
    {
     "data": {
      "text/html": [
       "<div>\n",
       "<style scoped>\n",
       "    .dataframe tbody tr th:only-of-type {\n",
       "        vertical-align: middle;\n",
       "    }\n",
       "\n",
       "    .dataframe tbody tr th {\n",
       "        vertical-align: top;\n",
       "    }\n",
       "\n",
       "    .dataframe thead th {\n",
       "        text-align: right;\n",
       "    }\n",
       "</style>\n",
       "<table border=\"1\" class=\"dataframe\">\n",
       "  <thead>\n",
       "    <tr style=\"text-align: right;\">\n",
       "      <th></th>\n",
       "      <th>Doc Text</th>\n",
       "    </tr>\n",
       "  </thead>\n",
       "  <tbody>\n",
       "    <tr>\n",
       "      <th>0</th>\n",
       "      <td>ad sale boost time warner profit quarterli pro...</td>\n",
       "    </tr>\n",
       "    <tr>\n",
       "      <th>1</th>\n",
       "      <td>dollar gain greenspan speech dollar hit highes...</td>\n",
       "    </tr>\n",
       "    <tr>\n",
       "      <th>2</th>\n",
       "      <td>yuko unit buyer face loan claim owner embattl ...</td>\n",
       "    </tr>\n",
       "    <tr>\n",
       "      <th>3</th>\n",
       "      <td>high fuel price hit ba profit british airway b...</td>\n",
       "    </tr>\n",
       "    <tr>\n",
       "      <th>4</th>\n",
       "      <td>pernod takeov talk lift domecq share uk drink ...</td>\n",
       "    </tr>\n",
       "  </tbody>\n",
       "</table>\n",
       "</div>"
      ],
      "text/plain": [
       "                                            Doc Text\n",
       "0  ad sale boost time warner profit quarterli pro...\n",
       "1  dollar gain greenspan speech dollar hit highes...\n",
       "2  yuko unit buyer face loan claim owner embattl ...\n",
       "3  high fuel price hit ba profit british airway b...\n",
       "4  pernod takeov talk lift domecq share uk drink ..."
      ]
     },
     "execution_count": 17,
     "metadata": {},
     "output_type": "execute_result"
    }
   ],
   "source": [
    "X.head()\n"
   ]
  },
  {
   "cell_type": "code",
   "execution_count": 18,
   "metadata": {},
   "outputs": [
    {
     "data": {
      "text/html": [
       "<div>\n",
       "<style scoped>\n",
       "    .dataframe tbody tr th:only-of-type {\n",
       "        vertical-align: middle;\n",
       "    }\n",
       "\n",
       "    .dataframe tbody tr th {\n",
       "        vertical-align: top;\n",
       "    }\n",
       "\n",
       "    .dataframe thead th {\n",
       "        text-align: right;\n",
       "    }\n",
       "</style>\n",
       "<table border=\"1\" class=\"dataframe\">\n",
       "  <thead>\n",
       "    <tr style=\"text-align: right;\">\n",
       "      <th></th>\n",
       "      <th>Topic</th>\n",
       "    </tr>\n",
       "  </thead>\n",
       "  <tbody>\n",
       "    <tr>\n",
       "      <th>0</th>\n",
       "      <td>business</td>\n",
       "    </tr>\n",
       "    <tr>\n",
       "      <th>1</th>\n",
       "      <td>business</td>\n",
       "    </tr>\n",
       "    <tr>\n",
       "      <th>2</th>\n",
       "      <td>business</td>\n",
       "    </tr>\n",
       "    <tr>\n",
       "      <th>3</th>\n",
       "      <td>business</td>\n",
       "    </tr>\n",
       "    <tr>\n",
       "      <th>4</th>\n",
       "      <td>business</td>\n",
       "    </tr>\n",
       "  </tbody>\n",
       "</table>\n",
       "</div>"
      ],
      "text/plain": [
       "      Topic\n",
       "0  business\n",
       "1  business\n",
       "2  business\n",
       "3  business\n",
       "4  business"
      ]
     },
     "execution_count": 18,
     "metadata": {},
     "output_type": "execute_result"
    }
   ],
   "source": [
    "y.head()"
   ]
  },
  {
   "cell_type": "code",
   "execution_count": 19,
   "metadata": {},
   "outputs": [
    {
     "data": {
      "text/plain": [
       "sport            912\n",
       "business         510\n",
       "politics         417\n",
       "entertainment    386\n",
       "Name: Topic, dtype: int64"
      ]
     },
     "execution_count": 19,
     "metadata": {},
     "output_type": "execute_result"
    }
   ],
   "source": [
    "y[\"Topic\"].value_counts()"
   ]
  },
  {
   "cell_type": "code",
   "execution_count": 20,
   "metadata": {},
   "outputs": [],
   "source": [
    "from sklearn.feature_extraction.text import TfidfVectorizer"
   ]
  },
  {
   "cell_type": "code",
   "execution_count": 21,
   "metadata": {},
   "outputs": [],
   "source": [
    "vectorizer = TfidfVectorizer()\n",
    "tfidf_matrix = vectorizer.fit_transform(data[\"Doc Text\"])\n",
    "x1 = tfidf_matrix.toarray()"
   ]
  },
  {
   "cell_type": "code",
   "execution_count": 22,
   "metadata": {},
   "outputs": [],
   "source": [
    "from sklearn.model_selection import train_test_split\n",
    "x_train1, x_test, y_train1, y_test = train_test_split(x1, y, test_size = 0.2, random_state = 100)\n",
    "x_train, x_val, y_train, y_val = train_test_split(x_train1, y_train1, test_size = 0.2, random_state = 100)"
   ]
  },
  {
   "cell_type": "code",
   "execution_count": 23,
   "metadata": {},
   "outputs": [],
   "source": [
    "p =pd.DataFrame(data = x_train)\n",
    "p.head()\n",
    "\n",
    "p1 =pd.DataFrame(data = x_train1)\n",
    "p1.head()\n",
    "\n",
    "t = pd.DataFrame(data = x_test)"
   ]
  },
  {
   "cell_type": "code",
   "execution_count": 24,
   "metadata": {},
   "outputs": [
    {
     "data": {
      "text/plain": [
       "(1424, 39000)"
      ]
     },
     "execution_count": 24,
     "metadata": {},
     "output_type": "execute_result"
    }
   ],
   "source": [
    "x_train.shape"
   ]
  },
  {
   "cell_type": "code",
   "execution_count": 25,
   "metadata": {},
   "outputs": [],
   "source": [
    "# Naive Bayes\n",
    "\n",
    "from sklearn.naive_bayes import GaussianNB"
   ]
  },
  {
   "cell_type": "code",
   "execution_count": 26,
   "metadata": {},
   "outputs": [
    {
     "name": "stdout",
     "output_type": "stream",
     "text": [
      "[[ 76   3   2  14]\n",
      " [  3  66   1   9]\n",
      " [  4   2  80  10]\n",
      " [  1   5   1 168]]\n",
      "0.8764044943820225\n",
      "0.1235955056179775\n",
      "[0.9047619  0.86842105 0.95238095 0.8358209 ]\n",
      "[0.8        0.83544304 0.83333333 0.96      ]\n",
      "[0.84916201 0.8516129  0.88888889 0.89361702]\n",
      "0.8708202061411188\n"
     ]
    },
    {
     "data": {
      "image/png": "[encoded data removed]",
      "text/plain": [
       "<Figure size 432x288 with 2 Axes>"
      ]
     },
     "metadata": {
      "needs_background": "light"
     },
     "output_type": "display_data"
    }
   ],
   "source": [
    "# Naive Bayes with all variables\n",
    "\n",
    "gb = GaussianNB()\n",
    "gb.fit(x_train1,y_train1.values.ravel())\n",
    "y_pred = gb.predict(x_test)\n",
    "\n",
    "# Compute confusion matrix\n",
    "conf_matrix = metrics.confusion_matrix(y_test, y_pred)\n",
    "print(conf_matrix)\n",
    "\n",
    "# Plot confusion matrix\n",
    "sns.heatmap(conf_matrix, annot = True, fmt = \".3f\", square = True, cmap = plt.cm.Blues)\n",
    "plt.ylabel('Actual')\n",
    "plt.xlabel('Predicted')\n",
    "plt.title('Confusion matrix')\n",
    "plt.tight_layout()\n",
    "\n",
    "# Compute evaluation metrics\n",
    "print(metrics.accuracy_score(y_test, y_pred)) # accuracy\n",
    "print(1 - metrics.accuracy_score(y_test, y_pred)) # error\n",
    "print(metrics.precision_score(y_test, y_pred, average = None)) # precision\n",
    "print(metrics.recall_score(y_test, y_pred, average = None)) # recall\n",
    "print(metrics.f1_score(y_test, y_pred, average = None)) # F1 score\n",
    "print(metrics.f1_score(y_test, y_pred, average = 'macro')) # F1 score average"
   ]
  },
  {
   "cell_type": "code",
   "execution_count": 27,
   "metadata": {},
   "outputs": [
    {
     "name": "stdout",
     "output_type": "stream",
     "text": [
      "[[ 79   7   0   9]\n",
      " [  2  69   2   6]\n",
      " [  7   3  78   8]\n",
      " [  7  13   3 152]]\n",
      "0.849438202247191\n",
      "0.15056179775280898\n",
      "[0.83157895 0.75       0.93975904 0.86857143]\n",
      "[0.83157895 0.87341772 0.8125     0.86857143]\n",
      "[0.83157895 0.80701754 0.87150838 0.86857143]\n",
      "0.8446690749219417\n"
     ]
    },
    {
     "data": {
      "image/png": "[encoded data removed]",
      "text/plain": [
       "<Figure size 432x288 with 2 Axes>"
      ]
     },
     "metadata": {
      "needs_background": "light"
     },
     "output_type": "display_data"
    }
   ],
   "source": [
    "# Decision Tree with all variables\n",
    "\n",
    "dt = DecisionTreeClassifier()\n",
    "dt.fit(x_train1,y_train1.values.ravel())\n",
    "y_pred = dt.predict(x_test)\n",
    "\n",
    "# Compute confusion matrix\n",
    "conf_matrix = metrics.confusion_matrix(y_test, y_pred)\n",
    "print(conf_matrix)\n",
    "\n",
    "# Plot confusion matrix\n",
    "sns.heatmap(conf_matrix, annot = True, fmt = \".3f\", square = True, cmap = plt.cm.Blues)\n",
    "plt.ylabel('Actual')\n",
    "plt.xlabel('Predicted')\n",
    "plt.title('Confusion matrix')\n",
    "plt.tight_layout()\n",
    "\n",
    "# Compute evaluation metrics\n",
    "print(metrics.accuracy_score(y_test, y_pred)) # accuracy\n",
    "print(1 - metrics.accuracy_score(y_test, y_pred)) # error\n",
    "print(metrics.precision_score(y_test, y_pred, average = None)) # precision\n",
    "print(metrics.recall_score(y_test, y_pred, average = None)) # recall\n",
    "print(metrics.f1_score(y_test, y_pred, average = None)) # F1 score\n",
    "print(metrics.f1_score(y_test, y_pred, average = 'macro')) # F1 score average"
   ]
  },
  {
   "cell_type": "code",
   "execution_count": 28,
   "metadata": {},
   "outputs": [],
   "source": [
    "from sklearn.feature_selection import SelectKBest, f_classif\n",
    "from math import sqrt"
   ]
  },
  {
   "cell_type": "code",
   "execution_count": 29,
   "metadata": {},
   "outputs": [
    {
     "name": "stderr",
     "output_type": "stream",
     "text": [
      "C:\\Users\\kalya\\Anaconda3\\lib\\site-packages\\sklearn\\utils\\validation.py:724: DataConversionWarning: A column-vector y was passed when a 1d array was expected. Please change the shape of y to (n_samples, ), for example using ravel().\n",
      "  y = column_or_1d(y, warn=True)\n",
      "C:\\Users\\kalya\\Anaconda3\\lib\\site-packages\\sklearn\\feature_selection\\univariate_selection.py:114: UserWarning: Features [   17    27    28 ... 38973 38976 38979] are constant.\n",
      "  UserWarning)\n",
      "C:\\Users\\kalya\\Anaconda3\\lib\\site-packages\\sklearn\\feature_selection\\univariate_selection.py:115: RuntimeWarning: invalid value encountered in true_divide\n",
      "  f = msb / msw\n"
     ]
    }
   ],
   "source": [
    "\n",
    "features = p.columns\n",
    "features\n",
    "bestfeatures = SelectKBest(score_func = f_classif, k=20)\n",
    "#print(bestfeatures)\n",
    "\n",
    "fit = bestfeatures.fit(x_train1, y_train1)\n",
    "col = fit.get_support()\n",
    "new_features = []\n",
    "for bool, feature in zip(col, features):\n",
    "    if bool:\n",
    "        new_features.append(feature)\n",
    "\n",
    "#new_features"
   ]
  },
  {
   "cell_type": "code",
   "execution_count": 30,
   "metadata": {},
   "outputs": [
    {
     "data": {
      "text/html": [
       "<div>\n",
       "<style scoped>\n",
       "    .dataframe tbody tr th:only-of-type {\n",
       "        vertical-align: middle;\n",
       "    }\n",
       "\n",
       "    .dataframe tbody tr th {\n",
       "        vertical-align: top;\n",
       "    }\n",
       "\n",
       "    .dataframe thead th {\n",
       "        text-align: right;\n",
       "    }\n",
       "</style>\n",
       "<table border=\"1\" class=\"dataframe\">\n",
       "  <thead>\n",
       "    <tr style=\"text-align: right;\">\n",
       "      <th></th>\n",
       "      <th>3482</th>\n",
       "      <th>6610</th>\n",
       "      <th>9082</th>\n",
       "      <th>9281</th>\n",
       "      <th>10477</th>\n",
       "      <th>11771</th>\n",
       "      <th>13126</th>\n",
       "      <th>15312</th>\n",
       "      <th>20307</th>\n",
       "      <th>20578</th>\n",
       "      <th>20828</th>\n",
       "      <th>22687</th>\n",
       "      <th>23125</th>\n",
       "      <th>23140</th>\n",
       "      <th>26067</th>\n",
       "      <th>30182</th>\n",
       "      <th>31910</th>\n",
       "      <th>34243</th>\n",
       "      <th>34374</th>\n",
       "      <th>37915</th>\n",
       "    </tr>\n",
       "  </thead>\n",
       "  <tbody>\n",
       "    <tr>\n",
       "      <th>0</th>\n",
       "      <td>0.0</td>\n",
       "      <td>0.0</td>\n",
       "      <td>0.0</td>\n",
       "      <td>0.0</td>\n",
       "      <td>0.0</td>\n",
       "      <td>0.0</td>\n",
       "      <td>0.000000</td>\n",
       "      <td>0.0</td>\n",
       "      <td>0.0</td>\n",
       "      <td>0.000000</td>\n",
       "      <td>0.0</td>\n",
       "      <td>0.0</td>\n",
       "      <td>0.0</td>\n",
       "      <td>0.000000</td>\n",
       "      <td>0.000000</td>\n",
       "      <td>0.0</td>\n",
       "      <td>0.0</td>\n",
       "      <td>0.0</td>\n",
       "      <td>0.0</td>\n",
       "      <td>0.072816</td>\n",
       "    </tr>\n",
       "    <tr>\n",
       "      <th>1</th>\n",
       "      <td>0.0</td>\n",
       "      <td>0.0</td>\n",
       "      <td>0.0</td>\n",
       "      <td>0.0</td>\n",
       "      <td>0.0</td>\n",
       "      <td>0.0</td>\n",
       "      <td>0.000000</td>\n",
       "      <td>0.0</td>\n",
       "      <td>0.0</td>\n",
       "      <td>0.000000</td>\n",
       "      <td>0.0</td>\n",
       "      <td>0.0</td>\n",
       "      <td>0.0</td>\n",
       "      <td>0.000000</td>\n",
       "      <td>0.000000</td>\n",
       "      <td>0.0</td>\n",
       "      <td>0.0</td>\n",
       "      <td>0.0</td>\n",
       "      <td>0.0</td>\n",
       "      <td>0.000000</td>\n",
       "    </tr>\n",
       "    <tr>\n",
       "      <th>2</th>\n",
       "      <td>0.0</td>\n",
       "      <td>0.0</td>\n",
       "      <td>0.0</td>\n",
       "      <td>0.0</td>\n",
       "      <td>0.0</td>\n",
       "      <td>0.0</td>\n",
       "      <td>0.000000</td>\n",
       "      <td>0.0</td>\n",
       "      <td>0.0</td>\n",
       "      <td>0.000000</td>\n",
       "      <td>0.0</td>\n",
       "      <td>0.0</td>\n",
       "      <td>0.0</td>\n",
       "      <td>0.000000</td>\n",
       "      <td>0.000000</td>\n",
       "      <td>0.0</td>\n",
       "      <td>0.0</td>\n",
       "      <td>0.0</td>\n",
       "      <td>0.0</td>\n",
       "      <td>0.000000</td>\n",
       "    </tr>\n",
       "    <tr>\n",
       "      <th>3</th>\n",
       "      <td>0.0</td>\n",
       "      <td>0.0</td>\n",
       "      <td>0.0</td>\n",
       "      <td>0.0</td>\n",
       "      <td>0.0</td>\n",
       "      <td>0.0</td>\n",
       "      <td>0.015337</td>\n",
       "      <td>0.0</td>\n",
       "      <td>0.0</td>\n",
       "      <td>0.000000</td>\n",
       "      <td>0.0</td>\n",
       "      <td>0.0</td>\n",
       "      <td>0.0</td>\n",
       "      <td>0.070649</td>\n",
       "      <td>0.000000</td>\n",
       "      <td>0.0</td>\n",
       "      <td>0.0</td>\n",
       "      <td>0.0</td>\n",
       "      <td>0.0</td>\n",
       "      <td>0.025317</td>\n",
       "    </tr>\n",
       "    <tr>\n",
       "      <th>4</th>\n",
       "      <td>0.0</td>\n",
       "      <td>0.0</td>\n",
       "      <td>0.0</td>\n",
       "      <td>0.0</td>\n",
       "      <td>0.0</td>\n",
       "      <td>0.0</td>\n",
       "      <td>0.000000</td>\n",
       "      <td>0.0</td>\n",
       "      <td>0.0</td>\n",
       "      <td>0.079435</td>\n",
       "      <td>0.0</td>\n",
       "      <td>0.0</td>\n",
       "      <td>0.0</td>\n",
       "      <td>0.050342</td>\n",
       "      <td>0.039177</td>\n",
       "      <td>0.0</td>\n",
       "      <td>0.0</td>\n",
       "      <td>0.0</td>\n",
       "      <td>0.0</td>\n",
       "      <td>0.000000</td>\n",
       "    </tr>\n",
       "  </tbody>\n",
       "</table>\n",
       "</div>"
      ],
      "text/plain": [
       "   3482   6610   9082   9281   10477  11771     13126  15312  20307     20578  \\\n",
       "0    0.0    0.0    0.0    0.0    0.0    0.0  0.000000    0.0    0.0  0.000000   \n",
       "1    0.0    0.0    0.0    0.0    0.0    0.0  0.000000    0.0    0.0  0.000000   \n",
       "2    0.0    0.0    0.0    0.0    0.0    0.0  0.000000    0.0    0.0  0.000000   \n",
       "3    0.0    0.0    0.0    0.0    0.0    0.0  0.015337    0.0    0.0  0.000000   \n",
       "4    0.0    0.0    0.0    0.0    0.0    0.0  0.000000    0.0    0.0  0.079435   \n",
       "\n",
       "   20828  22687  23125     23140     26067  30182  31910  34243  34374  \\\n",
       "0    0.0    0.0    0.0  0.000000  0.000000    0.0    0.0    0.0    0.0   \n",
       "1    0.0    0.0    0.0  0.000000  0.000000    0.0    0.0    0.0    0.0   \n",
       "2    0.0    0.0    0.0  0.000000  0.000000    0.0    0.0    0.0    0.0   \n",
       "3    0.0    0.0    0.0  0.070649  0.000000    0.0    0.0    0.0    0.0   \n",
       "4    0.0    0.0    0.0  0.050342  0.039177    0.0    0.0    0.0    0.0   \n",
       "\n",
       "      37915  \n",
       "0  0.072816  \n",
       "1  0.000000  \n",
       "2  0.000000  \n",
       "3  0.025317  \n",
       "4  0.000000  "
      ]
     },
     "execution_count": 30,
     "metadata": {},
     "output_type": "execute_result"
    }
   ],
   "source": [
    "train = pd.DataFrame(p1, columns=new_features)\n",
    "train.head()\n",
    "\n"
   ]
  },
  {
   "cell_type": "code",
   "execution_count": 31,
   "metadata": {},
   "outputs": [
    {
     "name": "stdout",
     "output_type": "stream",
     "text": [
      "[[ 41  16   4  34]\n",
      " [  2  56   0  21]\n",
      " [ 13   2  80   1]\n",
      " [ 12  34   1 128]]\n",
      "0.6853932584269663\n",
      "0.3146067415730337\n",
      "[0.60294118 0.51851852 0.94117647 0.69565217]\n",
      "[0.43157895 0.70886076 0.83333333 0.73142857]\n",
      "[0.50306748 0.59893048 0.8839779  0.71309192]\n",
      "0.674766947126014\n"
     ]
    },
    {
     "data": {
      "image/png": "[encoded data removed]",
      "text/plain": [
       "<Figure size 432x288 with 2 Axes>"
      ]
     },
     "metadata": {
      "needs_background": "light"
     },
     "output_type": "display_data"
    }
   ],
   "source": [
    "gb = GaussianNB()\n",
    "gb.fit(train,y_train1.values.ravel())\n",
    "test = pd.DataFrame(data = t, columns = new_features)\n",
    "#print(test.columns)\n",
    "y_pred = gb.predict(test)\n",
    "\n",
    "# Compute confusion matrix\n",
    "conf_matrix = metrics.confusion_matrix(y_test, y_pred)\n",
    "print(conf_matrix)\n",
    "\n",
    "# Plot confusion matrix\n",
    "sns.heatmap(conf_matrix, annot = True, fmt = \".3f\", square = True, cmap = plt.cm.Blues)\n",
    "plt.ylabel('Actual')\n",
    "plt.xlabel('Predicted')\n",
    "plt.title('Confusion matrix')\n",
    "plt.tight_layout()\n",
    "\n",
    "# Compute evaluation metrics\n",
    "print(metrics.accuracy_score(y_test, y_pred)) # accuracy\n",
    "print(1 - metrics.accuracy_score(y_test, y_pred)) # error\n",
    "print(metrics.precision_score(y_test, y_pred, average = None)) # precision\n",
    "print(metrics.recall_score(y_test, y_pred, average = None)) # recall\n",
    "print(metrics.f1_score(y_test, y_pred, average = None)) # F1 score\n",
    "print(metrics.f1_score(y_test, y_pred, average = 'macro')) # F1 score average"
   ]
  },
  {
   "cell_type": "code",
   "execution_count": 32,
   "metadata": {},
   "outputs": [
    {
     "name": "stdout",
     "output_type": "stream",
     "text": [
      "[[ 61   5   4  25]\n",
      " [  2  52   1  24]\n",
      " [ 15   4  74   3]\n",
      " [ 27  12   1 135]]\n",
      "0.7235955056179775\n",
      "0.2764044943820225\n",
      "[0.58095238 0.71232877 0.925      0.72192513]\n",
      "[0.64210526 0.65822785 0.77083333 0.77142857]\n",
      "[0.61       0.68421053 0.84090909 0.74585635]\n",
      "0.7202439927040102\n"
     ]
    },
    {
     "data": {
      "image/png": "[encoded data removed]",
      "text/plain": [
       "<Figure size 432x288 with 2 Axes>"
      ]
     },
     "metadata": {
      "needs_background": "light"
     },
     "output_type": "display_data"
    }
   ],
   "source": [
    "# Decision Tree \n",
    "\n",
    "\n",
    "dt = DecisionTreeClassifier()\n",
    "dt.fit(train,y_train1.values.ravel())\n",
    "test = pd.DataFrame(data = t, columns = new_features)\n",
    "#print(test.columns)\n",
    "y_pred = dt.predict(test)\n",
    "\n",
    "# Compute confusion matrix\n",
    "conf_matrix = metrics.confusion_matrix(y_test, y_pred)\n",
    "print(conf_matrix)\n",
    "\n",
    "# Plot confusion matrix\n",
    "sns.heatmap(conf_matrix, annot = True, fmt = \".3f\", square = True, cmap = plt.cm.Blues)\n",
    "plt.ylabel('Actual')\n",
    "plt.xlabel('Predicted')\n",
    "plt.title('Confusion matrix')\n",
    "plt.tight_layout()\n",
    "\n",
    "# Compute evaluation metrics\n",
    "print(metrics.accuracy_score(y_test, y_pred)) # accuracy\n",
    "print(1 - metrics.accuracy_score(y_test, y_pred)) # error\n",
    "print(metrics.precision_score(y_test, y_pred, average = None)) # precision\n",
    "print(metrics.recall_score(y_test, y_pred, average = None)) # recall\n",
    "print(metrics.f1_score(y_test, y_pred, average = None)) # F1 score\n",
    "print(metrics.f1_score(y_test, y_pred, average = 'macro')) # F1 score average"
   ]
  },
  {
   "cell_type": "code",
   "execution_count": 33,
   "metadata": {},
   "outputs": [],
   "source": [
    "# features = p.columns\n",
    "# features\n",
    "# bestfeatures = SelectKBest(score_func = f_classif, k=None)\n",
    "# #print(bestfeatures)\n",
    "\n",
    "# fit = bestfeatures.fit(x_train1, y_train1)\n",
    "# col = fit.get_support()\n",
    "# new_features = []\n",
    "# for bool, feature in zip(col, features):\n",
    "#     if bool:\n",
    "#         new_features.append(feature)\n",
    "\n",
    "# #new_features"
   ]
  },
  {
   "cell_type": "code",
   "execution_count": 34,
   "metadata": {},
   "outputs": [],
   "source": [
    "# The above feature selection took a lot of time"
   ]
  },
  {
   "cell_type": "code",
   "execution_count": 35,
   "metadata": {},
   "outputs": [],
   "source": [
    "# from sklearn.feature_selection import RFECV\n",
    "\n",
    "# model = ExtraTreesClassifier()\n",
    "# rfecv  = RFECV(estimator = model, min_features_to_select = 2)\n",
    "# rfecv.fit(x_train1,y_train1)\n",
    "\n",
    "# col = rfecv.support_\n",
    "# rank = rfecv.ranking_\n",
    "# rank\n",
    "# col\n",
    "\n",
    "\n",
    "# new_features = []\n",
    "# for bool, feature in zip(col, features):\n",
    "#     if bool:\n",
    "#         new_features.append(feature)\n",
    "\n"
   ]
  },
  {
   "cell_type": "code",
   "execution_count": 36,
   "metadata": {},
   "outputs": [],
   "source": [
    "# The above feature selection took a lot of time"
   ]
  },
  {
   "cell_type": "code",
   "execution_count": 37,
   "metadata": {},
   "outputs": [],
   "source": [
    "# train2 = pd.DataFrame(p1, columns=new_features)\n",
    "# train2.head()\n",
    "\n"
   ]
  },
  {
   "cell_type": "code",
   "execution_count": 38,
   "metadata": {},
   "outputs": [],
   "source": [
    "# With Bayesian Optimization and RF\n",
    "\n",
    "# def objective_func(args):\n",
    "#     n_estimators = args['n_estimators']\n",
    "#     max_depth = args['max_depth']\n",
    "#     min_samples_split = args['min_samples_split']\n",
    "# #    criterion = args['criterion']\n",
    "# #    max_features = args['max_features']\n",
    "#     min_samples_leaf = args['min_samples_leaf']\n",
    "\n",
    "#     #    clf = RandomForestClassifier(n_estimators = n_estimators, max_depth = max_depth, criterion=criterion, \n",
    "#  #                      max_features=max_features,min_samples_leaf=min_samples_leaf, min_samples_split=min_samples_split)\n",
    " \n",
    "#     clf = RandomForestClassifier(n_estimators = n_estimators, max_depth = max_depth, min_samples_leaf=min_samples_leaf, min_samples_split=min_samples_split, n_jobs = -1)\n",
    "    \n",
    "#     clf.fit(x_train,y_train.values.ravel())    \n",
    "#     y_pred = clf.predict(x_val)\n",
    "#     f1 = -(f1_score(y_pred,y_val,  average='macro'))\n",
    "#     return f1\n",
    "# space = {'n_estimators': hp.choice('n_estimators', range(200, 1001)), \n",
    "#          'max_depth': hp.choice('max_depth', range(20,101)), \n",
    "# #         'criterion': hp.choice('criterion',['gini', 'entropy']),\n",
    "# #         'max_features': hp.choice('max_features', ['auto', 'sqrt']),\n",
    "#         'min_samples_split': hp.choice('min_samples_split', range(2,11)),\n",
    "#          'min_samples_leaf' : hp.choice('min_samples_leaf',range(1,5))}\n",
    "                                \n",
    "                                \n",
    "                                \n",
    "# best_classifier = fmin(objective_func, space, algo=tpe.suggest, max_evals=100)\n",
    "# print(best_classifier)"
   ]
  },
  {
   "cell_type": "code",
   "execution_count": 39,
   "metadata": {},
   "outputs": [],
   "source": [
    "# bc = RandomForestClassifier(max_depth = 26,min_samples_leaf = 2, min_samples_split = 3, n_estimators = 175)\n",
    "# bc.fit(x_train,y_train)\n",
    "# y_pred = bc.predict(x_test)\n",
    "\n",
    "# # Compute confusion matrix\n",
    "# conf_matrix = metrics.confusion_matrix(y_test, y_pred)\n",
    "# print(conf_matrix)\n",
    "\n",
    "# # Plot confusion matrix\n",
    "# sns.heatmap(conf_matrix, annot = True, fmt = \".3f\", square = True, cmap = plt.cm.Blues)\n",
    "# plt.ylabel('Actual')\n",
    "# plt.xlabel('Predicted')\n",
    "# plt.title('Confusion matrix')\n",
    "# plt.tight_layout()\n",
    "\n",
    "# # Compute evaluation metrics\n",
    "# print(metrics.accuracy_score(y_test, y_pred)) # accuracy\n",
    "# print(1 - metrics.accuracy_score(y_test, y_pred)) # error\n",
    "# print(metrics.precision_score(y_test, y_pred, average = None)) # precision\n",
    "# print(metrics.recall_score(y_test, y_pred, average = None)) # recall\n",
    "# print(metrics.f1_score(y_test, y_pred, average = None)) # F1 score\n",
    "# print(metrics.f1_score(y_test, y_pred, average = 'macro')) # F1 score average"
   ]
  },
  {
   "cell_type": "code",
   "execution_count": 40,
   "metadata": {},
   "outputs": [],
   "source": [
    "# THe above model took a lot of time to run"
   ]
  },
  {
   "cell_type": "code",
   "execution_count": 41,
   "metadata": {},
   "outputs": [
    {
     "name": "stderr",
     "output_type": "stream",
     "text": [
      "C:\\Users\\kalya\\Anaconda3\\lib\\site-packages\\sklearn\\discriminant_analysis.py:388: UserWarning: Variables are collinear.\n",
      "  warnings.warn(\"Variables are collinear.\")\n"
     ]
    }
   ],
   "source": [
    "# WITH LDA\n",
    "from sklearn.discriminant_analysis import LinearDiscriminantAnalysis\n",
    "from math import sqrt\n",
    "lda = LinearDiscriminantAnalysis(n_components = None)\n",
    "x_lda = lda.fit_transform(x_train, y_train.values.ravel())\n",
    "x_vallda = lda.transform(x_val)\n",
    "x_testlda = lda.transform(x_test)\n",
    "x_lda = pd.DataFrame(data = x_lda)"
   ]
  },
  {
   "cell_type": "code",
   "execution_count": 42,
   "metadata": {},
   "outputs": [
    {
     "name": "stdout",
     "output_type": "stream",
     "text": [
      "100%|██████████| 100/100 [02:00<00:00,  1.26s/it, best loss: -0.4724594545344105]\n",
      "{'max_depth': 10, 'min_samples_leaf': 2, 'min_samples_split': 6, 'n_estimators': 315}\n"
     ]
    }
   ],
   "source": [
    "# WIth LDA and Random Forest in Bayesian Optimization\n",
    "\n",
    "def objective_func(args):\n",
    "\n",
    "    n_estimators = args['n_estimators']\n",
    "    max_depth = args['max_depth']\n",
    "    min_samples_split = args['min_samples_split']\n",
    "#    criterion = args['criterion']\n",
    "#    max_features = args['max_features']\n",
    "    min_samples_leaf = args['min_samples_leaf']\n",
    "\n",
    "    #    clf = RandomForestClassifier(n_estimators = n_estimators, max_depth = max_depth, criterion=criterion, \n",
    " #                      max_features=max_features,min_samples_leaf=min_samples_leaf, min_samples_split=min_samples_split)\n",
    " \n",
    "    clf = RandomForestClassifier(n_estimators = n_estimators, max_depth = max_depth, min_samples_leaf=min_samples_leaf, min_samples_split=min_samples_split, n_jobs = -1)\n",
    "    \n",
    "    clf.fit(x_lda,y_train.values.ravel())    \n",
    "    y_pred = clf.predict(x_vallda)\n",
    "    f1 = -(f1_score(y_pred,y_val,  average='macro'))\n",
    "    return f1\n",
    "space = {'n_estimators': hp.choice('n_estimators', np.arange(200, 1001, step =1)), \n",
    "         'max_depth': hp.choice('max_depth', np.arange(20,101, step =1)), \n",
    "#         'criterion': hp.choice('criterion',['gini', 'entropy']),\n",
    "#         'max_features': hp.choice('max_features', ['auto', 'sqrt']),\n",
    "        'min_samples_split': hp.choice('min_samples_split', np.arange(2,11, step =1)),\n",
    "         'min_samples_leaf' : hp.choice('min_samples_leaf',np.arange(2,5, step =1))}\n",
    "                                \n",
    "                                \n",
    "                                \n",
    "best_classifier = fmin(objective_func, space, algo=tpe.suggest, max_evals=100)\n",
    "print(best_classifier)"
   ]
  },
  {
   "cell_type": "code",
   "execution_count": 43,
   "metadata": {},
   "outputs": [],
   "source": [
    "# LDA didn't perform well as the variables are collinear"
   ]
  },
  {
   "cell_type": "code",
   "execution_count": 44,
   "metadata": {},
   "outputs": [
    {
     "name": "stdout",
     "output_type": "stream",
     "text": [
      "[0.01258088 0.00915323 0.00805291]\n"
     ]
    }
   ],
   "source": [
    "# With PCA\n",
    "from sklearn.decomposition import PCA\n",
    "\n",
    "# pca = PCA(n_components=3)\n",
    "# x_pca = pca.fit_transform(x_train)\n",
    "# x_valpca = pca.transform(x_val)\n",
    "# x_testpca = pca.transform(x_test)\n",
    "# print(pca.explained_variance_ratio_)\n",
    "\n",
    "pca2 = PCA(n_components=3)\n",
    "x_pca2 = pca2.fit_transform(x_train1)\n",
    "x_testpca2 = pca2.transform(x_test)\n",
    "print(pca2.explained_variance_ratio_)\n",
    "\n",
    "#x_testpca.shape\n"
   ]
  },
  {
   "cell_type": "code",
   "execution_count": 45,
   "metadata": {},
   "outputs": [
    {
     "name": "stdout",
     "output_type": "stream",
     "text": [
      "[[ 86   0   2   7]\n",
      " [  0  47   1  31]\n",
      " [  7   0  86   3]\n",
      " [ 33   3   1 138]]\n",
      "0.802247191011236\n",
      "0.19775280898876402\n",
      "[0.68253968 0.94       0.95555556 0.77094972]\n",
      "[0.90526316 0.59493671 0.89583333 0.78857143]\n",
      "[0.77828054 0.72868217 0.92473118 0.77966102]\n",
      "0.8028387283184781\n"
     ]
    },
    {
     "data": {
      "image/png": "[encoded data removed]",
      "text/plain": [
       "<Figure size 432x288 with 2 Axes>"
      ]
     },
     "metadata": {
      "needs_background": "light"
     },
     "output_type": "display_data"
    }
   ],
   "source": [
    "# Naive Bayes with principal components\n",
    "\n",
    "gb = GaussianNB()\n",
    "gb.fit(x_pca2,y_train1.values.ravel())\n",
    "y_pred = gb.predict(x_testpca2)\n",
    "\n",
    "# Compute confusion matrix\n",
    "conf_matrix = metrics.confusion_matrix(y_test, y_pred)\n",
    "print(conf_matrix)\n",
    "\n",
    "# Plot confusion matrix\n",
    "sns.heatmap(conf_matrix, annot = True, fmt = \".3f\", square = True, cmap = plt.cm.Blues)\n",
    "plt.ylabel('Actual')\n",
    "plt.xlabel('Predicted')\n",
    "plt.title('Confusion matrix')\n",
    "plt.tight_layout()\n",
    "\n",
    "# Compute evaluation metrics\n",
    "print(metrics.accuracy_score(y_test, y_pred)) # accuracy\n",
    "print(1 - metrics.accuracy_score(y_test, y_pred)) # error\n",
    "print(metrics.precision_score(y_test, y_pred, average = None)) # precision\n",
    "print(metrics.recall_score(y_test, y_pred, average = None)) # recall\n",
    "print(metrics.f1_score(y_test, y_pred, average = None)) # F1 score\n",
    "print(metrics.f1_score(y_test, y_pred, average = 'macro')) # F1 score average"
   ]
  },
  {
   "cell_type": "code",
   "execution_count": 46,
   "metadata": {},
   "outputs": [
    {
     "name": "stdout",
     "output_type": "stream",
     "text": [
      "[[ 82   2   7   4]\n",
      " [  1  75   0   3]\n",
      " [  7   3  86   0]\n",
      " [ 11   4   3 157]]\n",
      "0.898876404494382\n",
      "0.101123595505618\n",
      "[0.81188119 0.89285714 0.89583333 0.95731707]\n",
      "[0.86315789 0.94936709 0.89583333 0.89714286]\n",
      "[0.83673469 0.9202454  0.89583333 0.92625369]\n",
      "0.8947667783248812\n"
     ]
    },
    {
     "data": {
      "image/png": "[encoded data removed]",
      "text/plain": [
       "<Figure size 432x288 with 2 Axes>"
      ]
     },
     "metadata": {
      "needs_background": "light"
     },
     "output_type": "display_data"
    }
   ],
   "source": [
    "# Decision Tree with principal components\n",
    "\n",
    "dt = DecisionTreeClassifier()\n",
    "dt.fit(x_pca2,y_train1.values.ravel())\n",
    "\n",
    "y_pred = dt.predict(x_testpca2)\n",
    "\n",
    "# Compute confusion matrix\n",
    "conf_matrix = metrics.confusion_matrix(y_test, y_pred)\n",
    "print(conf_matrix)\n",
    "\n",
    "# Plot confusion matrix\n",
    "sns.heatmap(conf_matrix, annot = True, fmt = \".3f\", square = True, cmap = plt.cm.Blues)\n",
    "plt.ylabel('Actual')\n",
    "plt.xlabel('Predicted')\n",
    "plt.title('Confusion matrix')\n",
    "plt.tight_layout()\n",
    "\n",
    "# Compute evaluation metrics\n",
    "print(metrics.accuracy_score(y_test, y_pred)) # accuracy\n",
    "print(1 - metrics.accuracy_score(y_test, y_pred)) # error\n",
    "print(metrics.precision_score(y_test, y_pred, average = None)) # precision\n",
    "print(metrics.recall_score(y_test, y_pred, average = None)) # recall\n",
    "print(metrics.f1_score(y_test, y_pred, average = None)) # F1 score\n",
    "print(metrics.f1_score(y_test, y_pred, average = 'macro')) # F1 score average"
   ]
  },
  {
   "cell_type": "code",
   "execution_count": 47,
   "metadata": {},
   "outputs": [
    {
     "name": "stdout",
     "output_type": "stream",
     "text": [
      "100%|██████████| 100/100 [04:53<00:00,  2.81s/it, best loss: -0.9535538776307252]\n",
      "{'max_depth': 75, 'min_samples_leaf': 2, 'min_samples_split': 6, 'n': 5}\n"
     ]
    }
   ],
   "source": [
    "# With PCA, Bayesian Optimization, and Decision Tree\n",
    "\n",
    "def objective_func(args):\n",
    "    max_depth = args['max_depth']\n",
    "    min_samples_split = args['min_samples_split']\n",
    "    min_samples_leaf = args['min_samples_leaf']\n",
    "    pca = PCA(n_components=args['n'])\n",
    "    x_pca = pca.fit_transform(x_train)\n",
    "    x_valpca = pca.transform(x_val)\n",
    "    x_testpca = pca.transform(x_test)\n",
    " \n",
    "    clf = DecisionTreeClassifier(max_depth = max_depth, min_samples_leaf=min_samples_leaf, min_samples_split=min_samples_split)\n",
    "    \n",
    "    clf.fit(x_pca,y_train.values.ravel())    \n",
    "    y_pred = clf.predict(x_valpca)\n",
    "    f1 = -(f1_score(y_pred,y_val,  average='macro'))\n",
    "    return f1\n",
    "space = { \n",
    "         'max_depth': hp.choice('max_depth', np.arange(20,101, step =1)), \n",
    "#         'criterion': hp.choice('criterion',['gini', 'entropy']),\n",
    "#         'max_features': hp.choice('max_features', ['auto', 'sqrt']),\n",
    "        'min_samples_split': hp.choice('min_samples_split', np.arange(2,12, step =1)),\n",
    "         'min_samples_leaf' : hp.choice('min_samples_leaf',np.arange(1,12, step =1)),\n",
    "        'n': hp.choice('n', np.arange(3,20, step =1))}\n",
    "                                \n",
    "                                \n",
    "                                \n",
    "best_classifier = fmin(objective_func, space, algo=tpe.suggest, max_evals=100)\n",
    "print(best_classifier)"
   ]
  },
  {
   "cell_type": "code",
   "execution_count": 48,
   "metadata": {},
   "outputs": [
    {
     "name": "stdout",
     "output_type": "stream",
     "text": [
      "[[ 86   1   7   1]\n",
      " [  1  77   0   1]\n",
      " [  6   1  88   1]\n",
      " [  7   3   2 163]]\n",
      "0.9303370786516854\n",
      "0.06966292134831464\n",
      "[0.86       0.93902439 0.90721649 0.98192771]\n",
      "[0.90526316 0.97468354 0.91666667 0.93142857]\n",
      "[0.88205128 0.95652174 0.9119171  0.95601173]\n",
      "0.9266254624581478\n"
     ]
    },
    {
     "data": {
      "image/png": "[encoded data removed]",
      "text/plain": [
       "<Figure size 432x288 with 2 Axes>"
      ]
     },
     "metadata": {
      "needs_background": "light"
     },
     "output_type": "display_data"
    }
   ],
   "source": [
    "pca = PCA(n_components=best_classifier['n'])\n",
    "x_pca = pca.fit_transform(x_train)\n",
    "x_valpca = pca.transform(x_val)\n",
    "x_testpca = pca.transform(x_test)\n",
    "\n",
    "c = lambda a: 1 if a == 0 else a\n",
    "d = lambda a: 2 if a<= 1 else a\n",
    "bh = DecisionTreeClassifier(max_depth = c(best_classifier['max_depth']), min_samples_leaf=c(best_classifier['min_samples_leaf']), min_samples_split=d(best_classifier['min_samples_split']))\n",
    "bh.fit(x_pca,y_train.values.ravel())\n",
    "y_pred = bh.predict(x_testpca)\n",
    "\n",
    "# Compute confusion matrix\n",
    "conf_matrix = metrics.confusion_matrix(y_test, y_pred)\n",
    "print(conf_matrix)\n",
    "\n",
    "# Plot confusion matrix\n",
    "sns.heatmap(conf_matrix, annot = True, fmt = \".3f\", square = True, cmap = plt.cm.Blues)\n",
    "plt.ylabel('Actual')\n",
    "plt.xlabel('Predicted')\n",
    "plt.title('Confusion matrix')\n",
    "plt.tight_layout()\n",
    "\n",
    "# Compute evaluation metrics\n",
    "print(metrics.accuracy_score(y_test, y_pred)) # accuracy\n",
    "print(1 - metrics.accuracy_score(y_test, y_pred)) # error\n",
    "print(metrics.precision_score(y_test, y_pred, average = None)) # precision\n",
    "print(metrics.recall_score(y_test, y_pred, average = None)) # recall\n",
    "print(metrics.f1_score(y_test, y_pred, average = None)) # F1 score\n",
    "print(metrics.f1_score(y_test, y_pred, average = 'macro')) # F1 score average"
   ]
  },
  {
   "cell_type": "code",
   "execution_count": 49,
   "metadata": {},
   "outputs": [],
   "source": [
    "# KNN\n",
    "from sklearn.neighbors import KNeighborsClassifier"
   ]
  },
  {
   "cell_type": "code",
   "execution_count": 50,
   "metadata": {},
   "outputs": [
    {
     "name": "stdout",
     "output_type": "stream",
     "text": [
      "  1%|          | 1/100 [00:02<04:42,  2.85s/it, best loss: -0.8390731243720038]"
     ]
    },
    {
     "name": "stderr",
     "output_type": "stream",
     "text": [
      "C:\\Users\\kalya\\Anaconda3\\lib\\site-packages\\sklearn\\metrics\\classification.py:1439: UndefinedMetricWarning: F-score is ill-defined and being set to 0.0 in labels with no true samples.\n",
      "  'recall', 'true', average, warn_for)\n",
      "\n"
     ]
    },
    {
     "name": "stdout",
     "output_type": "stream",
     "text": [
      "  2%|▏         | 2/100 [00:06<04:50,  2.96s/it, best loss: -0.8390731243720038]"
     ]
    },
    {
     "name": "stderr",
     "output_type": "stream",
     "text": [
      "C:\\Users\\kalya\\Anaconda3\\lib\\site-packages\\sklearn\\metrics\\classification.py:1439: UndefinedMetricWarning: F-score is ill-defined and being set to 0.0 in labels with no true samples.\n",
      "  'recall', 'true', average, warn_for)\n",
      "\n"
     ]
    },
    {
     "name": "stdout",
     "output_type": "stream",
     "text": [
      "  4%|▍         | 4/100 [00:12<04:50,  3.03s/it, best loss: -0.8390731243720038]"
     ]
    },
    {
     "name": "stderr",
     "output_type": "stream",
     "text": [
      "C:\\Users\\kalya\\Anaconda3\\lib\\site-packages\\sklearn\\metrics\\classification.py:1439: UndefinedMetricWarning: F-score is ill-defined and being set to 0.0 in labels with no true samples.\n",
      "  'recall', 'true', average, warn_for)\n",
      "\n"
     ]
    },
    {
     "name": "stdout",
     "output_type": "stream",
     "text": [
      "  8%|▊         | 8/100 [00:24<04:46,  3.12s/it, best loss: -0.8979061731749238]"
     ]
    },
    {
     "name": "stderr",
     "output_type": "stream",
     "text": [
      "C:\\Users\\kalya\\Anaconda3\\lib\\site-packages\\sklearn\\metrics\\classification.py:1439: UndefinedMetricWarning: F-score is ill-defined and being set to 0.0 in labels with no true samples.\n",
      "  'recall', 'true', average, warn_for)\n",
      "\n"
     ]
    },
    {
     "name": "stdout",
     "output_type": "stream",
     "text": [
      "  9%|▉         | 9/100 [00:28<04:43,  3.12s/it, best loss: -0.8979061731749238]"
     ]
    },
    {
     "name": "stderr",
     "output_type": "stream",
     "text": [
      "C:\\Users\\kalya\\Anaconda3\\lib\\site-packages\\sklearn\\metrics\\classification.py:1439: UndefinedMetricWarning: F-score is ill-defined and being set to 0.0 in labels with no true samples.\n",
      "  'recall', 'true', average, warn_for)\n",
      "\n"
     ]
    },
    {
     "name": "stdout",
     "output_type": "stream",
     "text": [
      " 10%|█         | 10/100 [00:31<04:37,  3.08s/it, best loss: -0.8979061731749238]"
     ]
    },
    {
     "name": "stderr",
     "output_type": "stream",
     "text": [
      "C:\\Users\\kalya\\Anaconda3\\lib\\site-packages\\sklearn\\metrics\\classification.py:1439: UndefinedMetricWarning: F-score is ill-defined and being set to 0.0 in labels with no true samples.\n",
      "  'recall', 'true', average, warn_for)\n",
      "\n"
     ]
    },
    {
     "name": "stdout",
     "output_type": "stream",
     "text": [
      " 12%|█▏        | 12/100 [00:37<04:37,  3.16s/it, best loss: -0.8979061731749238]"
     ]
    },
    {
     "name": "stderr",
     "output_type": "stream",
     "text": [
      "C:\\Users\\kalya\\Anaconda3\\lib\\site-packages\\sklearn\\metrics\\classification.py:1439: UndefinedMetricWarning: F-score is ill-defined and being set to 0.0 in labels with no true samples.\n",
      "  'recall', 'true', average, warn_for)\n",
      "\n"
     ]
    },
    {
     "name": "stdout",
     "output_type": "stream",
     "text": [
      " 31%|███       | 31/100 [01:36<03:30,  3.06s/it, best loss: -0.9529671717171717]"
     ]
    },
    {
     "name": "stderr",
     "output_type": "stream",
     "text": [
      "C:\\Users\\kalya\\Anaconda3\\lib\\site-packages\\sklearn\\metrics\\classification.py:1439: UndefinedMetricWarning: F-score is ill-defined and being set to 0.0 in labels with no true samples.\n",
      "  'recall', 'true', average, warn_for)\n",
      "\n"
     ]
    },
    {
     "name": "stdout",
     "output_type": "stream",
     "text": [
      " 35%|███▌      | 35/100 [01:49<03:29,  3.23s/it, best loss: -0.9529671717171717]"
     ]
    },
    {
     "name": "stderr",
     "output_type": "stream",
     "text": [
      "C:\\Users\\kalya\\Anaconda3\\lib\\site-packages\\sklearn\\metrics\\classification.py:1439: UndefinedMetricWarning: F-score is ill-defined and being set to 0.0 in labels with no true samples.\n",
      "  'recall', 'true', average, warn_for)\n",
      "\n"
     ]
    },
    {
     "name": "stdout",
     "output_type": "stream",
     "text": [
      " 36%|███▌      | 36/100 [01:53<03:23,  3.18s/it, best loss: -0.9529671717171717]"
     ]
    },
    {
     "name": "stderr",
     "output_type": "stream",
     "text": [
      "C:\\Users\\kalya\\Anaconda3\\lib\\site-packages\\sklearn\\metrics\\classification.py:1439: UndefinedMetricWarning: F-score is ill-defined and being set to 0.0 in labels with no true samples.\n",
      "  'recall', 'true', average, warn_for)\n",
      "\n"
     ]
    },
    {
     "name": "stdout",
     "output_type": "stream",
     "text": [
      " 51%|█████     | 51/100 [02:38<02:26,  2.99s/it, best loss: -0.9559009648248974]"
     ]
    },
    {
     "name": "stderr",
     "output_type": "stream",
     "text": [
      "C:\\Users\\kalya\\Anaconda3\\lib\\site-packages\\sklearn\\metrics\\classification.py:1439: UndefinedMetricWarning: F-score is ill-defined and being set to 0.0 in labels with no true samples.\n",
      "  'recall', 'true', average, warn_for)\n",
      "\n"
     ]
    },
    {
     "name": "stdout",
     "output_type": "stream",
     "text": [
      " 53%|█████▎    | 53/100 [02:45<02:31,  3.22s/it, best loss: -0.9559009648248974]"
     ]
    },
    {
     "name": "stderr",
     "output_type": "stream",
     "text": [
      "C:\\Users\\kalya\\Anaconda3\\lib\\site-packages\\sklearn\\metrics\\classification.py:1439: UndefinedMetricWarning: F-score is ill-defined and being set to 0.0 in labels with no true samples.\n",
      "  'recall', 'true', average, warn_for)\n",
      "\n"
     ]
    },
    {
     "name": "stdout",
     "output_type": "stream",
     "text": [
      " 61%|██████    | 61/100 [03:09<01:57,  3.02s/it, best loss: -0.9559247874190743]"
     ]
    },
    {
     "name": "stderr",
     "output_type": "stream",
     "text": [
      "C:\\Users\\kalya\\Anaconda3\\lib\\site-packages\\sklearn\\metrics\\classification.py:1439: UndefinedMetricWarning: F-score is ill-defined and being set to 0.0 in labels with no true samples.\n",
      "  'recall', 'true', average, warn_for)\n",
      "\n"
     ]
    },
    {
     "name": "stdout",
     "output_type": "stream",
     "text": [
      " 64%|██████▍   | 64/100 [03:18<01:46,  2.97s/it, best loss: -0.9559247874190743]"
     ]
    },
    {
     "name": "stderr",
     "output_type": "stream",
     "text": [
      "C:\\Users\\kalya\\Anaconda3\\lib\\site-packages\\sklearn\\metrics\\classification.py:1439: UndefinedMetricWarning: F-score is ill-defined and being set to 0.0 in labels with no true samples.\n",
      "  'recall', 'true', average, warn_for)\n",
      "\n"
     ]
    },
    {
     "name": "stdout",
     "output_type": "stream",
     "text": [
      " 65%|██████▌   | 65/100 [03:21<01:44,  3.00s/it, best loss: -0.9559247874190743]"
     ]
    },
    {
     "name": "stderr",
     "output_type": "stream",
     "text": [
      "C:\\Users\\kalya\\Anaconda3\\lib\\site-packages\\sklearn\\metrics\\classification.py:1439: UndefinedMetricWarning: F-score is ill-defined and being set to 0.0 in labels with no true samples.\n",
      "  'recall', 'true', average, warn_for)\n",
      "\n"
     ]
    },
    {
     "name": "stdout",
     "output_type": "stream",
     "text": [
      " 77%|███████▋  | 77/100 [03:56<01:07,  2.95s/it, best loss: -0.9559247874190743]"
     ]
    },
    {
     "name": "stderr",
     "output_type": "stream",
     "text": [
      "C:\\Users\\kalya\\Anaconda3\\lib\\site-packages\\sklearn\\metrics\\classification.py:1439: UndefinedMetricWarning: F-score is ill-defined and being set to 0.0 in labels with no true samples.\n",
      "  'recall', 'true', average, warn_for)\n",
      "\n"
     ]
    },
    {
     "name": "stdout",
     "output_type": "stream",
     "text": [
      " 78%|███████▊  | 78/100 [03:59<01:05,  2.98s/it, best loss: -0.9559247874190743]"
     ]
    },
    {
     "name": "stderr",
     "output_type": "stream",
     "text": [
      "C:\\Users\\kalya\\Anaconda3\\lib\\site-packages\\sklearn\\metrics\\classification.py:1439: UndefinedMetricWarning: F-score is ill-defined and being set to 0.0 in labels with no true samples.\n",
      "  'recall', 'true', average, warn_for)\n",
      "\n"
     ]
    },
    {
     "name": "stdout",
     "output_type": "stream",
     "text": [
      " 83%|████████▎ | 83/100 [04:14<00:52,  3.10s/it, best loss: -0.9559247874190743]"
     ]
    },
    {
     "name": "stderr",
     "output_type": "stream",
     "text": [
      "C:\\Users\\kalya\\Anaconda3\\lib\\site-packages\\sklearn\\metrics\\classification.py:1439: UndefinedMetricWarning: F-score is ill-defined and being set to 0.0 in labels with no true samples.\n",
      "  'recall', 'true', average, warn_for)\n",
      "\n"
     ]
    },
    {
     "name": "stdout",
     "output_type": "stream",
     "text": [
      " 85%|████████▌ | 85/100 [04:20<00:45,  3.02s/it, best loss: -0.9559247874190743]"
     ]
    },
    {
     "name": "stderr",
     "output_type": "stream",
     "text": [
      "C:\\Users\\kalya\\Anaconda3\\lib\\site-packages\\sklearn\\metrics\\classification.py:1439: UndefinedMetricWarning: F-score is ill-defined and being set to 0.0 in labels with no true samples.\n",
      "  'recall', 'true', average, warn_for)\n",
      "\n"
     ]
    },
    {
     "name": "stdout",
     "output_type": "stream",
     "text": [
      " 92%|█████████▏| 92/100 [04:41<00:23,  2.95s/it, best loss: -0.9559247874190743]"
     ]
    },
    {
     "name": "stderr",
     "output_type": "stream",
     "text": [
      "C:\\Users\\kalya\\Anaconda3\\lib\\site-packages\\sklearn\\metrics\\classification.py:1439: UndefinedMetricWarning: F-score is ill-defined and being set to 0.0 in labels with no true samples.\n",
      "  'recall', 'true', average, warn_for)\n",
      "\n"
     ]
    },
    {
     "name": "stdout",
     "output_type": "stream",
     "text": [
      " 93%|█████████▎| 93/100 [04:44<00:20,  2.98s/it, best loss: -0.9559247874190743]"
     ]
    },
    {
     "name": "stderr",
     "output_type": "stream",
     "text": [
      "C:\\Users\\kalya\\Anaconda3\\lib\\site-packages\\sklearn\\metrics\\classification.py:1439: UndefinedMetricWarning: F-score is ill-defined and being set to 0.0 in labels with no true samples.\n",
      "  'recall', 'true', average, warn_for)\n",
      "\n"
     ]
    },
    {
     "name": "stdout",
     "output_type": "stream",
     "text": [
      " 94%|█████████▍| 94/100 [04:47<00:17,  2.97s/it, best loss: -0.9559247874190743]"
     ]
    },
    {
     "name": "stderr",
     "output_type": "stream",
     "text": [
      "C:\\Users\\kalya\\Anaconda3\\lib\\site-packages\\sklearn\\metrics\\classification.py:1439: UndefinedMetricWarning: F-score is ill-defined and being set to 0.0 in labels with no true samples.\n",
      "  'recall', 'true', average, warn_for)\n",
      "\n"
     ]
    },
    {
     "name": "stdout",
     "output_type": "stream",
     "text": [
      " 95%|█████████▌| 95/100 [04:50<00:15,  3.05s/it, best loss: -0.9559247874190743]"
     ]
    },
    {
     "name": "stderr",
     "output_type": "stream",
     "text": [
      "C:\\Users\\kalya\\Anaconda3\\lib\\site-packages\\sklearn\\metrics\\classification.py:1439: UndefinedMetricWarning: F-score is ill-defined and being set to 0.0 in labels with no true samples.\n",
      "  'recall', 'true', average, warn_for)\n",
      "\n"
     ]
    },
    {
     "name": "stdout",
     "output_type": "stream",
     "text": [
      " 96%|█████████▌| 96/100 [04:54<00:12,  3.10s/it, best loss: -0.9559247874190743]"
     ]
    },
    {
     "name": "stderr",
     "output_type": "stream",
     "text": [
      "C:\\Users\\kalya\\Anaconda3\\lib\\site-packages\\sklearn\\metrics\\classification.py:1439: UndefinedMetricWarning: F-score is ill-defined and being set to 0.0 in labels with no true samples.\n",
      "  'recall', 'true', average, warn_for)\n",
      "\n"
     ]
    },
    {
     "name": "stdout",
     "output_type": "stream",
     "text": [
      " 97%|█████████▋| 97/100 [04:58<00:10,  3.43s/it, best loss: -0.9559247874190743]"
     ]
    },
    {
     "name": "stderr",
     "output_type": "stream",
     "text": [
      "C:\\Users\\kalya\\Anaconda3\\lib\\site-packages\\sklearn\\metrics\\classification.py:1439: UndefinedMetricWarning: F-score is ill-defined and being set to 0.0 in labels with no true samples.\n",
      "  'recall', 'true', average, warn_for)\n",
      "\n"
     ]
    },
    {
     "name": "stdout",
     "output_type": "stream",
     "text": [
      "100%|██████████| 100/100 [05:08<00:00,  3.32s/it, best loss: -0.9559247874190743]\n",
      "{'metric': 1, 'n': 5, 'n_neighbors': 17}\n"
     ]
    }
   ],
   "source": [
    "# WIth PCA , Bayesian Optimization and KNN\n",
    "def objective_func(args):\n",
    "    n_neighbors = args['n_neighbors']\n",
    "    metric = args['metric']\n",
    "    pca = PCA(n_components=args['n'])\n",
    "    x_pca = pca.fit_transform(x_train)\n",
    "    x_valpca = pca.transform(x_val)\n",
    "    x_testpca = pca.transform(x_test)\n",
    "    clf = KNeighborsClassifier(n_neighbors=n_neighbors, metric=metric, n_jobs = -1)\n",
    " \n",
    "    clf.fit(x_pca,y_train.values.ravel())    \n",
    "    y_pred = clf.predict(x_valpca)\n",
    "    #print(y_pred)\n",
    "    #print(set(y_val['Topic']) - set(y_pred))\n",
    "    f1 = -(f1_score(y_pred,y_val,  average='macro'))\n",
    "    return f1\n",
    "space = {'n_neighbors': hp.choice('n_neighbors',np.arange(1,1000, step =1)),\n",
    "        'metric':hp.choice('metric', [\"euclidean\",\"manhattan\"]),\n",
    "        'n': hp.choice('n', np.arange(3,20, step =1))}\n",
    "\n",
    "best_classifier = fmin(objective_func, space, algo=tpe.suggest, max_evals=100)\n",
    "print(best_classifier)"
   ]
  },
  {
   "cell_type": "code",
   "execution_count": 51,
   "metadata": {},
   "outputs": [
    {
     "name": "stdout",
     "output_type": "stream",
     "text": [
      "[[ 87   2   5   1]\n",
      " [  1  76   0   2]\n",
      " [  3   2  91   0]\n",
      " [  2   3   1 169]]\n",
      "0.950561797752809\n",
      "0.04943820224719098\n",
      "[0.93548387 0.91566265 0.93814433 0.98255814]\n",
      "[0.91578947 0.96202532 0.94791667 0.96571429]\n",
      "[0.92553191 0.9382716  0.94300518 0.9740634 ]\n",
      "0.9452180254388518\n"
     ]
    },
    {
     "data": {
      "image/png": "[encoded data removed]",
      "text/plain": [
       "<Figure size 432x288 with 2 Axes>"
      ]
     },
     "metadata": {
      "needs_background": "light"
     },
     "output_type": "display_data"
    }
   ],
   "source": [
    "pca = PCA(n_components=best_classifier['n'])\n",
    "x_pca = pca.fit_transform(x_train)\n",
    "x_valpca = pca.transform(x_val)\n",
    "x_testpca = pca.transform(x_test)\n",
    "\n",
    "c = lambda a: 'euclidean' if a == 0 else 'manhattan'\n",
    "bh = KNeighborsClassifier(metric = c(best_classifier['metric']), n_neighbors= best_classifier['n_neighbors'])\n",
    "bh.fit(x_pca,y_train.values.ravel())\n",
    "y_pred = bh.predict(x_testpca)\n",
    "\n",
    "# Compute confusion matrix\n",
    "conf_matrix = metrics.confusion_matrix(y_test, y_pred)\n",
    "print(conf_matrix)\n",
    "\n",
    "# Plot confusion matrix\n",
    "sns.heatmap(conf_matrix, annot = True, fmt = \".3f\", square = True, cmap = plt.cm.Blues)\n",
    "plt.ylabel('Actual')\n",
    "plt.xlabel('Predicted')\n",
    "plt.title('Confusion matrix')\n",
    "plt.tight_layout()\n",
    "\n",
    "# Compute evaluation metrics\n",
    "print(metrics.accuracy_score(y_test, y_pred)) # accuracy\n",
    "print(1 - metrics.accuracy_score(y_test, y_pred)) # error\n",
    "print(metrics.precision_score(y_test, y_pred, average = None)) # precision\n",
    "print(metrics.recall_score(y_test, y_pred, average = None)) # recall\n",
    "print(metrics.f1_score(y_test, y_pred, average = None)) # F1 score\n",
    "print(metrics.f1_score(y_test, y_pred, average = 'macro')) # F1 score average"
   ]
  },
  {
   "cell_type": "code",
   "execution_count": 52,
   "metadata": {},
   "outputs": [],
   "source": [
    "#Ensemble Methods"
   ]
  },
  {
   "cell_type": "code",
   "execution_count": 53,
   "metadata": {},
   "outputs": [
    {
     "name": "stdout",
     "output_type": "stream",
     "text": [
      "[[ 93   0   0   2]\n",
      " [  2  72   0   5]\n",
      " [  3   0  88   5]\n",
      " [  1   0   1 173]]\n",
      "0.9573033707865168\n",
      "0.04269662921348316\n",
      "[0.93939394 1.         0.98876404 0.93513514]\n",
      "[0.97894737 0.91139241 0.91666667 0.98857143]\n",
      "[0.95876289 0.95364238 0.95135135 0.96111111]\n",
      "0.9562169332915902\n"
     ]
    },
    {
     "data": {
      "image/png": "[encoded data removed]",
      "text/plain": [
       "<Figure size 432x288 with 2 Axes>"
      ]
     },
     "metadata": {
      "needs_background": "light"
     },
     "output_type": "display_data"
    }
   ],
   "source": [
    "# Random Forest with all variables\n",
    "bc = RandomForestClassifier(n_estimators = 500)\n",
    "bc.fit(x_train1,y_train1.values.ravel())\n",
    "y_pred = bc.predict(x_test)\n",
    "\n",
    "# Compute confusion matrix\n",
    "conf_matrix = metrics.confusion_matrix(y_test, y_pred)\n",
    "print(conf_matrix)\n",
    "\n",
    "# Plot confusion matrix\n",
    "sns.heatmap(conf_matrix, annot = True, fmt = \".3f\", square = True, cmap = plt.cm.Blues)\n",
    "plt.ylabel('Actual')\n",
    "plt.xlabel('Predicted')\n",
    "plt.title('Confusion matrix')\n",
    "plt.tight_layout()\n",
    "\n",
    "# Compute evaluation metrics\n",
    "print(metrics.accuracy_score(y_test, y_pred)) # accuracy\n",
    "print(1 - metrics.accuracy_score(y_test, y_pred)) # error\n",
    "print(metrics.precision_score(y_test, y_pred, average = None)) # precision\n",
    "print(metrics.recall_score(y_test, y_pred, average = None)) # recall\n",
    "print(metrics.f1_score(y_test, y_pred, average = None)) # F1 score\n",
    "print(metrics.f1_score(y_test, y_pred, average = 'macro')) # F1 score average"
   ]
  },
  {
   "cell_type": "code",
   "execution_count": 54,
   "metadata": {},
   "outputs": [
    {
     "name": "stdout",
     "output_type": "stream",
     "text": [
      "100%|██████████| 100/100 [07:06<00:00,  4.34s/it, best loss: -0.9750413989752008]\n",
      "{'max_depth': 21, 'min_samples_leaf': 0, 'min_samples_split': 1, 'n': 14, 'n_estimators': 138}\n"
     ]
    }
   ],
   "source": [
    "# With PCA, Bayesian Optimization, and Random Forest\n",
    "\n",
    "def objective_func(args):\n",
    "    n_estimators = args['n_estimators']\n",
    "    max_depth = args['max_depth']\n",
    "    min_samples_split = args['min_samples_split']\n",
    "    min_samples_leaf = args['min_samples_leaf']\n",
    "    pca = PCA(n_components=args['n'])\n",
    "    x_pca = pca.fit_transform(x_train)\n",
    "    x_valpca = pca.transform(x_val)\n",
    "    x_testpca = pca.transform(x_test)\n",
    " \n",
    "    clf = RandomForestClassifier(n_estimators = n_estimators, max_depth = max_depth, min_samples_leaf=min_samples_leaf, min_samples_split=min_samples_split, n_jobs = -1)\n",
    "    \n",
    "    clf.fit(x_pca,y_train.values.ravel())    \n",
    "    y_pred = clf.predict(x_valpca)\n",
    "    f1 = -(f1_score(y_pred,y_val,  average='macro'))\n",
    "    return f1\n",
    "space = {'n_estimators': hp.choice('n_estimators', np.arange(20,1001, step =1)), \n",
    "         'max_depth': hp.choice('max_depth', np.arange(20,101, step =1)), \n",
    "#         'criterion': hp.choice('criterion',['gini', 'entropy']),\n",
    "#         'max_features': hp.choice('max_features', ['auto', 'sqrt']),\n",
    "        'min_samples_split': hp.choice('min_samples_split', np.arange(2,12, step =1)),\n",
    "         'min_samples_leaf' : hp.choice('min_samples_leaf',np.arange(1,12, step =1)),\n",
    "        'n': hp.choice('n', np.arange(3,20, step =1))}\n",
    "                                \n",
    "                                \n",
    "                                \n",
    "best_classifier = fmin(objective_func, space, algo=tpe.suggest, max_evals=100)\n",
    "print(best_classifier)"
   ]
  },
  {
   "cell_type": "code",
   "execution_count": 57,
   "metadata": {},
   "outputs": [
    {
     "name": "stderr",
     "output_type": "stream",
     "text": [
      "C:\\Users\\kalya\\Anaconda3\\lib\\site-packages\\ipykernel_launcher.py:12: DataConversionWarning: A column-vector y was passed when a 1d array was expected. Please change the shape of y to (n_samples,), for example using ravel().\n",
      "  if sys.path[0] == '':\n"
     ]
    },
    {
     "name": "stdout",
     "output_type": "stream",
     "text": [
      "[[ 88   3   3   1]\n",
      " [  0  79   0   0]\n",
      " [  2   1  92   1]\n",
      " [  1   1   1 172]]\n",
      "0.9685393258426966\n",
      "0.03146067415730336\n",
      "[0.96703297 0.94047619 0.95833333 0.98850575]\n",
      "[0.92631579 1.         0.95833333 0.98285714]\n",
      "[0.94623656 0.96932515 0.95833333 0.98567335]\n",
      "0.9648920995707203\n"
     ]
    },
    {
     "data": {
      "image/png": "[encoded data removed]",
      "text/plain": [
       "<Figure size 432x288 with 2 Axes>"
      ]
     },
     "metadata": {
      "needs_background": "light"
     },
     "output_type": "display_data"
    }
   ],
   "source": [
    "pca = PCA(n_components=best_classifier['n'])\n",
    "x_pca = pca.fit_transform(x_train)\n",
    "x_valpca = pca.transform(x_val)\n",
    "x_testpca = pca.transform(x_test)\n",
    "\n",
    "\n",
    "c = lambda b : 1 if b == 0 else b\n",
    "d = lambda b : 2 if b <= 1 else b\n",
    "bc = RandomForestClassifier(max_depth = c(best_classifier['max_depth']), min_samples_leaf = c(best_classifier['min_samples_leaf']), min_samples_split = d(best_classifier['min_samples_split'])\n",
    "                            ,n_estimators = best_classifier['n_estimators'])\n",
    "\n",
    "bc.fit(x_pca, y_train)\n",
    "\n",
    "y_pred = bc.predict(x_testpca)\n",
    "# Compute confusion matrix\n",
    "conf_matrix = metrics.confusion_matrix(y_test, y_pred)\n",
    "print(conf_matrix)\n",
    "\n",
    "\n",
    "# Plot confusion matrix\n",
    "sns.heatmap(conf_matrix, annot = True, fmt = \".3f\", square = True, cmap = plt.cm.Blues)\n",
    "plt.ylabel('Actual')\n",
    "plt.xlabel('Predicted')\n",
    "plt.title('Confusion matrix')\n",
    "plt.tight_layout()\n",
    "\n",
    "# Compute evaluation metrics\n",
    "print(metrics.accuracy_score(y_test, y_pred)) # accuracy\n",
    "print(1 - metrics.accuracy_score(y_test, y_pred)) # error\n",
    "print(metrics.precision_score(y_test, y_pred, average = None)) # precision\n",
    "print(metrics.recall_score(y_test, y_pred, average = None)) # recall\n",
    "print(metrics.f1_score(y_test, y_pred, average = None)) # F1 score\n",
    "print(metrics.f1_score(y_test, y_pred, average = 'macro')) # F1 score average"
   ]
  },
  {
   "cell_type": "code",
   "execution_count": 58,
   "metadata": {},
   "outputs": [],
   "source": [
    "# Using Light GB\n",
    "\n",
    "import lightgbm as lgbm\n",
    "from lightgbm.sklearn import LGBMClassifier\n",
    "\n",
    "from sklearn.model_selection import RandomizedSearchCV\n"
   ]
  },
  {
   "cell_type": "code",
   "execution_count": 59,
   "metadata": {},
   "outputs": [
    {
     "name": "stdout",
     "output_type": "stream",
     "text": [
      "Fitting 3 folds for each of 50 candidates, totalling 150 fits\n"
     ]
    },
    {
     "name": "stderr",
     "output_type": "stream",
     "text": [
      "[Parallel(n_jobs=1)]: Using backend SequentialBackend with 1 concurrent workers.\n",
      "[Parallel(n_jobs=1)]: Done 150 out of 150 | elapsed:   46.7s finished\n"
     ]
    },
    {
     "name": "stdout",
     "output_type": "stream",
     "text": [
      "{'subsample': 0.6, 'n_estimators': 957, 'min_split_gain': 3, 'max_depth': 477, 'learning_rate': 0.6}\n",
      "0.9196982071355368\n"
     ]
    }
   ],
   "source": [
    "\n",
    "# Using PCA, Random Search, and LGB\n",
    "\n",
    "param = {\n",
    "    'n_estimators':np.arange(200,1000, step =1),\n",
    "    'learning_rate': np.linspace(0.1,0.7, num=7), \n",
    "    'max_depth': np.arange(10,1000, step =1),   \n",
    "     'subsample': np.linspace(0.5,0.8, num=4),\n",
    "    'min_split_gain': np.arange(0,6, step =1)}\n",
    "\n",
    "bc1 = LGBMClassifier(objective = 'multiclass', random_state = 101)\n",
    "rs = RandomizedSearchCV(estimator = bc1, param_distributions = param, n_iter=50,\n",
    "                                   scoring='f1_macro',\n",
    "                                   cv=3, \n",
    "                                   verbose=1, random_state=8)\n",
    "\n",
    "rs.fit(x_pca2, y_train1.values.ravel())\n",
    "\n",
    "print(rs.best_params_)\n",
    "print(rs.best_score_)\n",
    "bcc = rs.best_estimator_"
   ]
  },
  {
   "cell_type": "code",
   "execution_count": 60,
   "metadata": {},
   "outputs": [
    {
     "name": "stdout",
     "output_type": "stream",
     "text": [
      "[[ 88   2   5   0]\n",
      " [  0  73   0   6]\n",
      " [  1   2  92   1]\n",
      " [  8   4   1 162]]\n",
      "0.9325842696629213\n",
      "0.0674157303370787\n",
      "[0.90721649 0.90123457 0.93877551 0.95857988]\n",
      "[0.92631579 0.92405063 0.95833333 0.92571429]\n",
      "[0.91666667 0.9125     0.94845361 0.94186047]\n",
      "0.9298701850075921\n"
     ]
    },
    {
     "data": {
      "image/png": "[encoded data removed]",
      "text/plain": [
       "<Figure size 432x288 with 2 Axes>"
      ]
     },
     "metadata": {
      "needs_background": "light"
     },
     "output_type": "display_data"
    }
   ],
   "source": [
    "\n",
    "bcc.fit(x_pca2,y_train1.values.ravel())\n",
    "y_pred = bcc.predict(x_testpca2)\n",
    "\n",
    "# Compute confusion matrix\n",
    "conf_matrix = metrics.confusion_matrix(y_test, y_pred)\n",
    "print(conf_matrix)\n",
    "\n",
    "# Plot confusion matrix\n",
    "sns.heatmap(conf_matrix, annot = True, fmt = \".3f\", square = True, cmap = plt.cm.Blues)\n",
    "plt.ylabel('Actual')\n",
    "plt.xlabel('Predicted')\n",
    "plt.title('Confusion matrix')\n",
    "plt.tight_layout()\n",
    "\n",
    "# Compute evaluation metrics\n",
    "print(metrics.accuracy_score(y_test, y_pred)) # accuracy\n",
    "print(1 - metrics.accuracy_score(y_test, y_pred)) # error\n",
    "print(metrics.precision_score(y_test, y_pred, average = None)) # precision\n",
    "print(metrics.recall_score(y_test, y_pred, average = None)) # recall\n",
    "print(metrics.f1_score(y_test, y_pred, average = None)) # F1 score\n",
    "print(metrics.f1_score(y_test, y_pred, average = 'macro')) # F1 score average"
   ]
  },
  {
   "cell_type": "code",
   "execution_count": 61,
   "metadata": {},
   "outputs": [
    {
     "name": "stdout",
     "output_type": "stream",
     "text": [
      "100%|██████████| 100/100 [04:14<00:00,  2.43s/it, best loss: -0.9681665520960426]\n",
      "{'learning_rate': 0.43328639678664116, 'max_depth': 80, 'min_split_gain': 0, 'n': 6, 'n_estimators': 528, 'subsample': 0.6944817185895009}\n"
     ]
    }
   ],
   "source": [
    "# # Using PCA, Bayesian Optimization, and LGB\n",
    "\n",
    "def objective_func(args):\n",
    "    n_estimators = args['n_estimators']\n",
    "    max_depth = args['max_depth']\n",
    "    min_split_gain = args['min_split_gain']\n",
    "    learning_rate = args['learning_rate']\n",
    "    subsample = args['subsample']\n",
    "    \n",
    "    pca = PCA(n_components=args['n'])\n",
    "    x_pca = pca.fit_transform(x_train)\n",
    "    x_valpca = pca.transform(x_val)\n",
    "    x_testpca = pca.transform(x_test)\n",
    " \n",
    "    clf = LGBMClassifier(n_estimators = n_estimators, min_split_gain=min_split_gain, subsample=subsample, max_depth= max_depth,learning_rate = learning_rate)\n",
    "    \n",
    "    \n",
    "    clf.fit(x_pca,y_train.values.ravel())    \n",
    "    y_pred = clf.predict(x_valpca)\n",
    "    f1 = -(f1_score(y_pred,y_val,  average='macro'))\n",
    "    return f1\n",
    "space = {'n_estimators': hp.choice('n_estimators',np.arange(200,1000, step =1)), \n",
    "        'min_split_gain': hp.choice('min_split_gain',np.arange(0,10, step =1)),\n",
    "         'subsample' : hp.uniform('subsample', 0.5, 0.9),\n",
    "        'max_depth': hp.choice('max_depth',np.arange(10,1000, step =1)),\n",
    "        'learning_rate': hp.uniform('learning_rate', 0.1, 0.5),\n",
    "        'n': hp.choice('n', np.arange(3,20, step =1))}\n",
    "                                \n",
    "                                \n",
    "                                \n",
    "best_classifier = fmin(objective_func, space, algo=tpe.suggest, max_evals=100)\n",
    "print(best_classifier)"
   ]
  },
  {
   "cell_type": "code",
   "execution_count": 62,
   "metadata": {},
   "outputs": [
    {
     "name": "stdout",
     "output_type": "stream",
     "text": [
      "[[ 87   3   4   1]\n",
      " [  0  78   0   1]\n",
      " [  4   2  89   1]\n",
      " [  2   2   2 169]]\n",
      "0.950561797752809\n",
      "0.04943820224719098\n",
      "[0.93548387 0.91764706 0.93684211 0.98255814]\n",
      "[0.91578947 0.98734177 0.92708333 0.96571429]\n",
      "[0.92553191 0.95121951 0.93193717 0.9740634 ]\n",
      "0.9456880001099943\n"
     ]
    },
    {
     "data": {
      "image/png": "[encoded data removed]",
      "text/plain": [
       "<Figure size 432x288 with 2 Axes>"
      ]
     },
     "metadata": {
      "needs_background": "light"
     },
     "output_type": "display_data"
    }
   ],
   "source": [
    "pca = PCA(n_components=best_classifier['n'])\n",
    "x_pca = pca.fit_transform(x_train)\n",
    "x_valpca = pca.transform(x_val)\n",
    "x_testpca = pca.transform(x_test)\n",
    "\n",
    "#c = lambda b : 1 if b == 0 else b\n",
    "bccbo = LGBMClassifier(learning_rate= best_classifier['learning_rate'], n_estimators = best_classifier['n_estimators'], max_depth= c(best_classifier['max_depth']), \n",
    "                       min_split_gain= best_classifier['min_split_gain'], subsample = best_classifier['subsample'])\n",
    "bccbo.fit(x_pca, y_train.values.ravel())\n",
    "\n",
    "y_pred = bccbo.predict(x_testpca)\n",
    "\n",
    "# Compute confusion matrix\n",
    "conf_matrix = metrics.confusion_matrix(y_test, y_pred)\n",
    "print(conf_matrix)\n",
    "\n",
    "# Plot confusion matrix\n",
    "sns.heatmap(conf_matrix, annot = True, fmt = \".3f\", square = True, cmap = plt.cm.Blues)\n",
    "plt.ylabel('Actual')\n",
    "plt.xlabel('Predicted')\n",
    "plt.title('Confusion matrix')\n",
    "plt.tight_layout()\n",
    "\n",
    "# Compute evaluation metrics\n",
    "print(metrics.accuracy_score(y_test, y_pred)) # accuracy\n",
    "print(1 - metrics.accuracy_score(y_test, y_pred)) # error\n",
    "print(metrics.precision_score(y_test, y_pred, average = None)) # precision\n",
    "print(metrics.recall_score(y_test, y_pred, average = None)) # recall\n",
    "print(metrics.f1_score(y_test, y_pred, average = None)) # F1 score\n",
    "print(metrics.f1_score(y_test, y_pred, average = 'macro')) # F1 score average"
   ]
  },
  {
   "cell_type": "code",
   "execution_count": null,
   "metadata": {},
   "outputs": [],
   "source": []
  },
  {
   "cell_type": "code",
   "execution_count": null,
   "metadata": {},
   "outputs": [],
   "source": []
  }
 ],
 "metadata": {
  "kernelspec": {
   "display_name": "Python 3",
   "language": "python",
   "name": "python3"
  },
  "language_info": {
   "codemirror_mode": {
    "name": "ipython",
    "version": 3
   },
   "file_extension": ".py",
   "mimetype": "text/x-python",
   "name": "python",
   "nbconvert_exporter": "python",
   "pygments_lexer": "ipython3",
   "version": "3.7.3"
  }
 },
 "nbformat": 4,
 "nbformat_minor": 4
}
